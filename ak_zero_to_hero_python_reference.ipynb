{
 "cells": [
  {
   "cell_type": "markdown",
   "metadata": {},
   "source": [
    "<a id=\"top\"></a>\n",
    "# Python Concepts from *Neural Networks: Zero to Hero*\n",
    "\n",
    "This guide highlights important Python programming constructs used in Andrej Karpathy’s **Neural Networks: Zero to Hero** lecture notebooks. It emphasizes **Python fluency** rather than deep learning theory, adding clarity and examples.\n",
    "\n",
    "## Table of Contents\n",
    "1. [List Comprehensions](#list-comprehensions)\n",
    "2. [Dictionary Comprehensions](#dict-comprehensions)\n",
    "3. [Combined Example (List + Dict)](#combined-example)\n",
    "4. [Generators](#generators)\n",
    "5. [Lambda Functions](#lambdas)\n",
    "6. [The `enumerate` Function](#enumerate)\n",
    "7. [The `zip` Function](#zip)\n",
    "8. [Custom Classes & `__init__`](#custom-classes)\n",
    "9. [Inheritance & Overriding Methods](#inheritance)\n",
    "10. [Special Methods & Operator Overloading](#special-methods)\n",
    "11. [Final Example: Counting Bigrams in a Text File](#final-bigrams)\n",
    "12. [Answers](#answers)\n"
   ]
  },
  {
   "cell_type": "markdown",
   "metadata": {},
   "source": [
    "## <a id=\"list-comprehensions\"></a>1. List Comprehensions\n",
    "\n",
    "A **list comprehension** is a concise way to build a new list by iterating over an iterable and optionally filtering. The syntax is:\n",
    "```python\n",
    "[<expression> for <item> in <iterable> if <condition>]\n",
    "```\n",
    "It can replace multi-line loops in many cases."
   ]
  },
  {
   "cell_type": "markdown",
   "metadata": {},
   "source": [
    "**Example** – building a character index from a list of words:"
   ]
  },
  {
   "cell_type": "code",
   "metadata": {},
   "source": [
    "words = [\"andrej\", \"karpathy\", \"zero\", \"hero\"]\n",
    "chars = sorted(list(set(''.join(words))))\n",
    "char_to_index = {ch: i for i, ch in enumerate(chars)}\n",
    "print(\"Unique chars:\", chars)\n",
    "print(\"Char-to-index mapping:\", char_to_index)"
   ],
   "execution_count": null,
   "outputs": []
  },
  {
   "cell_type": "markdown",
   "metadata": {},
   "source": [
    "### Quiz ([Answers](#answers-list-comprehensions))\n",
    "\n",
    "**1. Understanding Syntax**  \n",
    "```python\n",
    "numbers = [1,2,3,4,5]\n",
    "squares = [n*n for n in numbers if n%2==1]\n",
    "print(squares)\n",
    "```\n",
    "Which list is produced?\n",
    "\n",
    "**A.** `[1,4,9,16,25]` (all squares)\n",
    "**B.** `[1,9,25]` (only odd squares)\n",
    "**C.** `[n*n for n in numbers if n%2==1]`\n",
    "**D.** `[1,9,25,49,81]` (numbers 1..9)\n",
    "\n",
    "**2. Fill in the Blank:** `[x**2 for x in range(4)]` => `________`.\n",
    "\n",
    "**3.** If `words=[\"Neural\",\"Networks\",\"Zero\",\"Hero\"]`, write a list comprehension to get **first letters**.\n",
    "\n",
    "[Back to top](#top)"
   ]
  },
  {
   "cell_type": "markdown",
   "metadata": {},
   "source": [
    "## <a id=\"dict-comprehensions\"></a>2. Dictionary Comprehensions\n",
    "\n",
    "A **dictionary comprehension** looks like:\n",
    "```python\n",
    "{<key_expr>: <value_expr> for <item> in <iterable> if <condition>}\n",
    "```\n",
    "It parallels list comprehensions but creates key-value pairs."
   ]
  },
  {
   "cell_type": "markdown",
   "metadata": {},
   "source": [
    "**Example** – mapping chars to uppercase"
   ]
  },
  {
   "cell_type": "code",
   "metadata": {},
   "source": [
    "chars = ['a','b','c','d']\n",
    "char_map = {ch: ch.upper() for ch in chars}\n",
    "char_map"
   ],
   "execution_count": null,
   "outputs": []
  },
  {
   "cell_type": "markdown",
   "metadata": {},
   "source": [
    "### Quiz ([Answers](#answers-dict-comprehensions))\n",
    "\n",
    "**1. Syntax**  \n",
    "What characters do we use for a **dictionary** comprehension (instead of brackets)?\n",
    "\n",
    "**2. Filtering**  \n",
    "How do we create a dict comprehension that only includes pairs if the key is a single letter?\n",
    "\n",
    "**3.** Suppose we have `(char->count)`. Write a dict comprehension to keep only `(char->count)` if `count>2`.\n",
    "\n",
    "[Back to top](#top)"
   ]
  },
  {
   "cell_type": "markdown",
   "metadata": {},
   "source": [
    "## <a id=\"combined-example\"></a>3. Combined Example (List + Dict)\n",
    "\n",
    "We can chain list comprehensions **and** dictionary comprehensions.\n",
    "\n",
    "**Example**:"
   ]
  },
  {
   "cell_type": "code",
   "metadata": {},
   "source": [
    "fruits = [\"apple\",\"banana\",\"pear\",\"kiwi\"]\n",
    "\n",
    "# list comprehension: uppercase only fruits >3 chars\n",
    "upper_fruits = [f.upper() for f in fruits if len(f)>3]\n",
    "\n",
    "# dict comprehension: fruit->length\n",
    "fruit_lengths = {uf: len(uf) for uf in upper_fruits}\n",
    "\n",
    "print(\"Upper fruits:\", upper_fruits)\n",
    "print(\"Fruit->length:\", fruit_lengths)"
   ],
   "execution_count": null,
   "outputs": []
  },
  {
   "cell_type": "markdown",
   "metadata": {},
   "source": [
    "[Back to top](#top)"
   ]
  },
  {
   "cell_type": "markdown",
   "metadata": {},
   "source": [
    "## <a id=\"generators\"></a>4. Generators\n",
    "\n",
    "A **generator** is made by using `yield` in a function, or a generator expression `(expr for x in something)`. It yields items one by one."
   ]
  },
  {
   "cell_type": "markdown",
   "metadata": {},
   "source": [
    "**Example** – a countdown generator"
   ]
  },
  {
   "cell_type": "code",
   "metadata": {},
   "source": [
    "def countdown(n):\n",
    "    while n>0:\n",
    "        yield n\n",
    "        n -= 1\n",
    "\n",
    "for val in countdown(5):\n",
    "    print(val)"
   ],
   "execution_count": null,
   "outputs": []
  },
  {
   "cell_type": "markdown",
   "metadata": {},
   "source": [
    "### Quiz ([Answers](#answers-generators))\n",
    "\n",
    "**1.** Which keyword makes a function a generator?\n",
    "**2.** If we do:\n",
    "```python\n",
    "def gen():\n",
    "    print(\"Start\")\n",
    "    yield 1\n",
    "    print(\"Middle\")\n",
    "    yield 2\n",
    "    print(\"End\")\n",
    "g=gen()\n",
    "print(next(g))\n",
    "print(next(g))\n",
    "```\n",
    "Which lines are printed?\n",
    "\n",
    "**3.** Write `evens_up_to(n)`.\n",
    "\n",
    "[Back to top](#top)"
   ]
  },
  {
   "cell_type": "markdown",
   "metadata": {},
   "source": [
    "## <a id=\"lambdas\"></a>5. Lambda Functions\n",
    "\n",
    "A **lambda function** is a short, anonymous function: `lambda args: expression`. Often used to specify a **key** in sorting or filtering."
   ]
  },
  {
   "cell_type": "markdown",
   "metadata": {},
   "source": [
    "**Example** – sorting with a lambda key"
   ]
  },
  {
   "cell_type": "code",
   "metadata": {},
   "source": [
    "pairs = [(\"A\",3),(\"B\",1),(\"C\",2)]\n",
    "sorted_pairs = sorted(pairs, key=lambda x: x[1])\n",
    "sorted_pairs"
   ],
   "execution_count": null,
   "outputs": []
  },
  {
   "cell_type": "markdown",
   "metadata": {},
   "source": [
    "### Quiz ([Answers](#answers-lambdas))\n",
    "\n",
    "**1.** `sorted(names, key=lambda s: len(s))` – what does the lambda do?\n",
    "**2.** A lambda is anonymous because it has no ______.\n",
    "**3.** If `data=[('A',3),('B',1),('C',2)]`, fill in:\n",
    "```python\n",
    "data_sorted = sorted(data, key=__________)\n",
    "# => [('B',1),('C',2),('A',3)]\n",
    "```\n",
    "\n",
    "[Back to top](#top)"
   ]
  },
  {
   "cell_type": "markdown",
   "metadata": {},
   "source": [
    "## <a id=\"enumerate\"></a>6. The `enumerate` Function\n",
    "\n",
    "`enumerate()` yields `(index, elem)` pairs, removing the need for a manual counter."
   ]
  },
  {
   "cell_type": "code",
   "metadata": {},
   "source": [
    "seasons = [\"Spring\",\"Summer\",\"Fall\",\"Winter\"]\n",
    "for i, season in enumerate(seasons, start=1):\n",
    "    print(i, season)"
   ],
   "execution_count": null,
   "outputs": []
  },
  {
   "cell_type": "markdown",
   "metadata": {},
   "source": [
    "### Quiz ([Answers](#answers-enumerate))\n",
    "\n",
    "**1.** If `start` isn’t given, do we start at 0 or 1?\n",
    "**2.** `pairs = list(enumerate([\"x\",\"y\",\"z\"]))` => which result?\n",
    "**3.** Rewrite:\n",
    "```python\n",
    "i=0\n",
    "for elem in my_list:\n",
    "    print(i,elem)\n",
    "    i+=1\n",
    "```\n",
    "using `enumerate`.\n",
    "\n",
    "[Back to top](#top)"
   ]
  },
  {
   "cell_type": "markdown",
   "metadata": {},
   "source": [
    "## <a id=\"zip\"></a>7. The `zip` Function\n",
    "\n",
    "`zip()` iterates multiple lists in parallel, stopping at the shortest, yielding tuples of corresponding elements."
   ]
  },
  {
   "cell_type": "code",
   "metadata": {},
   "source": [
    "for c1, c2 in zip(\"emma\",\"mma\"):\n",
    "    print(c1, c2)"
   ],
   "execution_count": null,
   "outputs": []
  },
  {
   "cell_type": "markdown",
   "metadata": {},
   "source": [
    "### Quiz ([Answers](#answers-zip))\n",
    "\n",
    "**1.** `list(zip([1,2,3], ['a','b','c']))` => which list?\n",
    "**2.** If lengths are 5 & 3, how many tuples?\n",
    "**3.** Show how to parallel-iterate `names=['Alice','Bob','Charlie']` and `ages=[25,30,22]`.\n",
    "\n",
    "[Back to top](#top)"
   ]
  },
  {
   "cell_type": "markdown",
   "metadata": {},
   "source": [
    "## <a id=\"custom-classes\"></a>8. Custom Classes & `__init__`\n",
    "\n",
    "When you create a new instance, Python calls `__init__`. You can define attributes or do any other setup. Example from micrograd’s `Value` (simplified)."
   ]
  },
  {
   "cell_type": "code",
   "metadata": {},
   "source": [
    "class Value:\n",
    "    def __init__(self, data, _children=(), _op=''):\n",
    "        self.data = data\n",
    "        self.grad = 0.0\n",
    "        self._prev = set(_children)\n",
    "        self._op = _op\n",
    "\n",
    "x = Value(5.0)\n",
    "x.data, x.grad, x._op"
   ],
   "execution_count": null,
   "outputs": []
  },
  {
   "cell_type": "markdown",
   "metadata": {},
   "source": [
    "### Quiz ([Answers](#answers-custom-classes))\n",
    "\n",
    "**1.** `self` param is…?\n",
    "**2.** If `__init__` is missing, does Python fail or use a default?\n",
    "**3.** Write `Counter` with `count=0` + `increment()`.\n",
    "\n",
    "[Back to top](#top)"
   ]
  },
  {
   "cell_type": "markdown",
   "metadata": {},
   "source": [
    "## <a id=\"inheritance\"></a>9. Inheritance & Overriding Methods\n",
    "\n",
    "A subclass can inherit from a base class and override some methods."
   ]
  },
  {
   "cell_type": "code",
   "metadata": {},
   "source": [
    "class Animal:\n",
    "    def speak(self):\n",
    "        print(\"Generic\")\n",
    "\n",
    "class Dog(Animal):\n",
    "    def speak(self):\n",
    "        print(\"Woof!\")\n",
    "\n",
    "d = Dog()\n",
    "d.speak()"
   ],
   "execution_count": null,
   "outputs": []
  },
  {
   "cell_type": "markdown",
   "metadata": {},
   "source": [
    "### Quiz ([Answers](#answers-inheritance))\n",
    "\n",
    "**1.** If `B` inherits from `A` but both define `greet()`, which runs for `B`?\n",
    "**2.** How do you call the parent’s version from `B`?\n",
    "**3.** If `Layer.activate(x)=x`, a subclass wants `max(x,0)`. Do we call base?\n",
    "\n",
    "[Back to top](#top)"
   ]
  },
  {
   "cell_type": "markdown",
   "metadata": {},
   "source": [
    "## <a id=\"special-methods\"></a>10. Special Methods & Operator Overloading\n",
    "\n",
    "Python’s **dunder** methods (`__init__`, `__repr__`, `__add__`, etc.) let you customize built-in behaviors (like printing or `+`)."
   ]
  },
  {
   "cell_type": "markdown",
   "metadata": {},
   "source": [
    "**Example** – Overriding `__repr__` and `__add__`"
   ]
  },
  {
   "cell_type": "code",
   "metadata": {},
   "source": [
    "class Value:\n",
    "    def __init__(self, data):\n",
    "        self.data = data\n",
    "    def __repr__(self):\n",
    "        return f\"Value(data={self.data})\"\n",
    "    def __add__(self, other):\n",
    "        if not isinstance(other, Value):\n",
    "            other = Value(other)\n",
    "        return Value(self.data + other.data)\n",
    "\n",
    "v1 = Value(2)\n",
    "v2 = Value(3)\n",
    "v3 = v1 + v2\n",
    "v3"
   ],
   "execution_count": null,
   "outputs": []
  },
  {
   "cell_type": "markdown",
   "metadata": {},
   "source": [
    "### Quiz ([Answers](#answers-special-methods))\n",
    "\n",
    "**1.** If a class lacks `__repr__`, printing it yields what?\n",
    "**2.** If `Vector` defines `__add__`, how does `v1+v2+v3` proceed?\n",
    "**3.** For `obj1 * obj2`, define `______`.\n",
    "\n",
    "[Back to top](#top)"
   ]
  },
  {
   "cell_type": "markdown",
   "metadata": {},
   "source": [
    "# <a id=\"final-bigrams\"></a>11. Final Example: Counting Bigrams in a Text File\n",
    "\n",
    "Below, we **read names** from `names.txt`, count bigrams, and sort them in descending order. We'll show **new concepts** like `dict.get()`, `sorted(...)` with a `lambda` key, etc.\n"
   ]
  },
  {
   "cell_type": "code",
   "metadata": {},
   "source": [
    "# This code cell is fully executable if you have 'names.txt' available.\n",
    "# Otherwise, you'll get FileNotFoundError.\n",
    "\n",
    "# 1) Read all names from 'names.txt'\n",
    "with open('names.txt','r') as f:\n",
    "    words = f.read().splitlines()\n",
    "\n",
    "# 2) Inspect some of the data\n",
    "print(\"First 10 names:\", words[:10])\n",
    "print(\"Total number of names:\", len(words))\n",
    "print(\"Min name length:\", min(len(w) for w in words))\n",
    "print(\"Max name length:\", max(len(w) for w in words))\n",
    "\n",
    "# 3) Build a dictionary of (ch1,ch2)->count\n",
    "b = {}\n",
    "for w in words:\n",
    "    chs = ['<S>'] + list(w) + ['<E>']\n",
    "    for ch1, ch2 in zip(chs, chs[1:]):\n",
    "        bigram = (ch1, ch2)\n",
    "        # dict.get(key, default) returns b[key] if present, else 'default'.\n",
    "        b[bigram] = b.get(bigram, 0) + 1\n",
    "\n",
    "# 4) Sort bigrams by frequency (descending)\n",
    "sorted_bigrams = sorted(b.items(), key=lambda kv: -kv[1])\n",
    "print(\"Top 10 bigrams:\", sorted_bigrams[:10])"
   ],
   "execution_count": null,
   "outputs": []
  },
  {
   "cell_type": "markdown",
   "metadata": {},
   "source": [
    "**Explanation**:\n",
    "- **`open('names.txt','r')`**: opens the file for reading.\n",
    "- **`.read().splitlines()`**: reads the entire file as a string, then splits by line breaks into a list (`words`).\n",
    "- **`b.get(bigram,0)`**: retrieves the dictionary value for `bigram` or `0` if not found.\n",
    "- **`sorted(..., key=lambda kv: -kv[1])`**: sorts the `(key,value)` pairs by **negative** `value`, i.e. descending order.\n",
    "\n",
    "You can adapt this code for any text file or a built-in `words` list if you don’t have `names.txt`. If `names.txt` isn’t in the same folder, you’ll need to provide a correct path or you’ll see `FileNotFoundError`."
   ]
  },
  {
   "cell_type": "markdown",
   "metadata": {},
   "source": [
    "# <a id=\"answers\"></a>12. Answers\n",
    "\n",
    "## <a id=\"answers-list-comprehensions\"></a>Answers: List Comprehensions [↩](#list-comprehensions)\n",
    "1. B – `[1,9,25]` (only odd squares)\n",
    "2. `[0,1,4,9]`\n",
    "3. `[w[0] for w in words]`\n",
    "\n",
    "## <a id=\"answers-dict-comprehensions\"></a>Answers: Dictionary Comprehensions [↩](#dict-comprehensions)\n",
    "1. Curly braces `{...}` rather than brackets `[...]`.\n",
    "2. e.g. `{ch: ch.upper() for ch in chars if condition}`.\n",
    "3. e.g. `{c: n for c,n in counts.items() if n>2}`.\n",
    "\n",
    "## (No direct quiz for the combined example)\n",
    "\n",
    "## <a id=\"answers-generators\"></a>Answers: Generators [↩](#generators)\n",
    "1. `yield`.\n",
    "2. Prints \"Start\" => yields 1; \"Middle\" => yields 2; next call prints \"End\".\n",
    "3. Example:\n",
    "```python\n",
    "def evens_up_to(n):\n",
    "    for i in range(0,n+1,2):\n",
    "        yield i\n",
    "```\n",
    "\n",
    "## <a id=\"answers-lambdas\"></a>Answers: Lambda Functions [↩](#lambdas)\n",
    "1. Returns the length of each name for sorting.\n",
    "2. No **name**.\n",
    "3. `key=lambda x: x[1]`\n",
    "\n",
    "## <a id=\"answers-enumerate\"></a>Answers: The `enumerate` Function [↩](#enumerate)\n",
    "1. Starts at 0 by default.\n",
    "2. `[(0,'x'),(1,'y'),(2,'z')]`\n",
    "3. `for i,elem in enumerate(my_list): print(i,elem)`\n",
    "\n",
    "## <a id=\"answers-zip\"></a>Answers: The `zip` Function [↩](#zip)\n",
    "1. `[(1,'a'),(2,'b'),(3,'c')]`\n",
    "2. 3\n",
    "3. `for n,a in zip(names,ages): print(f\"{n} is {a}\")`\n",
    "\n",
    "## <a id=\"answers-custom-classes\"></a>Answers: Custom Classes [↩](#custom-classes)\n",
    "1. `self` is the instance.\n",
    "2. Python calls a default `__init__` that does nothing.\n",
    "3. ```python\n",
    "class Counter:\n",
    "    def __init__(self):\n",
    "        self.count = 0\n",
    "    def increment(self):\n",
    "        self.count += 1\n",
    "```\n",
    "\n",
    "## <a id=\"answers-inheritance\"></a>Answers: Inheritance & Overriding [↩](#inheritance)\n",
    "1. Subclass method overrides.\n",
    "2. `super().method(...)` or `ParentClass.method(self,...)`\n",
    "3. e.g. `return max(x,0)`\n",
    "\n",
    "## <a id=\"answers-special-methods\"></a>Answers: Special Methods [↩](#special-methods)\n",
    "1. `<MyClass object at 0x...>`\n",
    "2. It calls `__add__` twice left->right.\n",
    "3. `__mul__`.\n",
    "\n",
    "[Back to top](#top)"
   ]
  }
 ],
 "metadata": {
  "kernelspec": {
   "display_name": "Python 3",
   "name": "python3",
   "language": "python"
  },
  "language_info": {
   "name": "python"
  }
 },
 "nbformat": 4,
 "nbformat_minor": 5
}
