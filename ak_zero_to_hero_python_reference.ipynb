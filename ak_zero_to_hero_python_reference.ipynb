{
 "cells": [
  {
   "cell_type": "markdown",
   "metadata": {},
   "source": [
    "<a id=\"top\"></a>\n",
    "# Python Concepts from *Neural Networks: Zero to Hero*\n",
    "\n",
    "This notebook explores key **Python features** used in Andrej Karpathy’s *Neural Networks: Zero to Hero* series, focusing on practical applications in neural network programming. Each section includes detailed explanations, runnable code examples, **multiple-choice quizzes** with additional questions for deeper understanding, and a final hands-on bigram-counting example using `names.txt`. The goal is to provide both foundational knowledge and practical intuition for Python in machine learning contexts.\n",
    "\n",
    "## Table of Contents\n",
    "1. [List Comprehensions](#list-comprehensions)\n",
    "2. [Dictionary Comprehensions](#dict-comprehensions)\n",
    "3. [Combined Example (List + Dict)](#combined-example)\n",
    "4. [Generators](#generators)\n",
    "5. [Lambda Functions](#lambdas)\n",
    "6. [Enumerate and `items()`](#enumerate)\n",
    "7. [The `zip` Function](#zip)\n",
    "8. [Custom Classes & `__init__`](#custom-classes)\n",
    "9. [Inheritance & Overriding Methods](#inheritance)\n",
    "10. [Special Methods & Operator Overloading](#special-methods)\n",
    "11. [Putting It All Together: Counting Bigrams from `names.txt`](#final-bigrams)\n",
    "12. [Answers](#answers)\n"
   ]
  },
  {
   "cell_type": "markdown",
   "metadata": {},
   "source": [
    "## <a id=\"list-comprehensions\"></a>1. List Comprehensions\n",
    "\n",
    "A **list comprehension** is a concise, readable way to create a list by transforming or filtering items from an iterable (e.g., lists, ranges, strings). It replaces verbose `for` loops with a single line of code. The syntax is:\n",
    "```python\n",
    "[ <expression> for <item> in <iterable> if <condition> ]\n",
    "```\n",
    "- `<expression>`: What each item becomes in the new list.\n",
    "- `<item>`: The variable representing each element of the iterable.\n",
    "- `<iterable>`: The source data (e.g., `range(5)`, `['a', 'b', 'c']`).\n",
    "- `if <condition>`: Optional filter to include only items meeting the condition.\n",
    "\n",
    "List comprehensions are widely used in machine learning for tasks like data preprocessing (e.g., normalizing values) or creating feature lists efficiently.\n"
   ]
  },
  {
   "cell_type": "markdown",
   "metadata": {},
   "source": [
    "**Example 1** – Building a character index from a list of words (common in text processing for neural networks):"
   ]
  },
  {
   "cell_type": "code",
   "execution_count": null,
   "metadata": {},
   "outputs": [],
   "source": [
    "words = [\"andrej\", \"karpathy\", \"zero\", \"hero\"]\n",
    "chars = sorted(list(set(''.join(words))))  # Join words, convert to set for unique chars, then sort\n",
    "char_to_index = {ch: i for i, ch in enumerate(chars)}  # We'll cover this in dict comprehensions\n",
    "print(\"Unique chars:\", chars)\n",
    "print(\"Char-to-index mapping:\", char_to_index)"
   ]
  },
  {
   "cell_type": "markdown",
   "metadata": {},
   "source": [
    "**Example 2** – Squaring numbers with a filter:"
   ]
  },
  {
   "cell_type": "code",
   "execution_count": null,
   "metadata": {},
   "outputs": [],
   "source": [
    "numbers = [1, 2, 3, 4, 5]\n",
    "odd_squares = [n * n for n in numbers if n % 2 == 1]\n",
    "print(\"Squares of odd numbers:\", odd_squares)  # Output: [1, 9, 25]"
   ]
  },
  {
   "cell_type": "markdown",
   "metadata": {},
   "source": [
    "### Quiz ([Answers](#answers-list-comprehensions))\n",
    "\n",
    "**1. Understanding Syntax**\n",
    "```python\n",
    "numbers = [1, 2, 3, 4, 5]\n",
    "squares = [n * n for n in numbers if n % 2 == 1]\n",
    "print(squares)\n",
    "```\n",
    "- A. `[1, 4, 9, 16, 25]` (all squares)\n",
    "- B. `[1, 9, 25]` (only odd squares)\n",
    "- C. `[n * n for n in numbers if n % 2 == 1]` (syntax string)\n",
    "- D. `[1, 9, 25, 49, 81]` (squares of 1..9)\n",
    "\n",
    "**2. Fill in the Blank**\n",
    "`[x**2 for x in range(4)]` => `________`\n",
    "\n",
    "**3. Practical Application**\n",
    "Suppose `words = [\"Neural\", \"Networks\", \"Zero\", \"Hero\"]`. Write a list comprehension to get **first letters**.\n",
    "\n",
    "**4. Filtering**\n",
    "What does `[w for w in [\"cat\", \"dog\", \"bird\"] if len(w) > 3]` produce?\n",
    "- A. `[\"cat\", \"dog\", \"bird\"]`\n",
    "- B. `[\"bird\"]`\n",
    "- C. `[]`\n",
    "- D. `[\"cat\", \"bird\"]`\n",
    "\n",
    "[Back to top](#top)"
   ]
  },
  {
   "cell_type": "markdown",
   "metadata": {},
   "source": [
    "## <a id=\"dict-comprehensions\"></a>2. Dictionary Comprehensions\n",
    "\n",
    "A **dictionary comprehension** builds a dictionary using a similar concise syntax, producing **key-value pairs**. It’s ideal for mapping inputs to outputs (e.g., character frequencies in text data). The syntax is:\n",
    "```python\n",
    "{ <key_expr>: <value_expr> for <item> in <iterable> if <condition> }\n",
    "```\n",
    "- `<key_expr>`: Defines the key for each entry.\n",
    "- `<value_expr>`: Defines the value associated with the key.\n",
    "- The rest mirrors list comprehensions.\n",
    "\n",
    "In neural networks, dictionary comprehensions are often used to create lookup tables or count occurrences efficiently.\n"
   ]
  },
  {
   "cell_type": "markdown",
   "metadata": {},
   "source": [
    "**Example 1** – Mapping characters to uppercase:"
   ]
  },
  {
   "cell_type": "code",
   "execution_count": null,
   "metadata": {},
   "outputs": [],
   "source": [
    "chars = ['a', 'b', 'c', 'd']\n",
    "char_map = {ch: ch.upper() for ch in chars}\n",
    "print(char_map)  # Output: {'a': 'A', 'b': 'B', 'c': 'C', 'd': 'D'}"
   ]
  },
  {
   "cell_type": "markdown",
   "metadata": {},
   "source": [
    "**Example 2** – Counting occurrences in a string:"
   ]
  },
  {
   "cell_type": "code",
   "execution_count": null,
   "metadata": {},
   "outputs": [],
   "source": [
    "text = \"hello\"\n",
    "char_counts = {ch: text.count(ch) for ch in set(text)}\n",
    "print(char_counts)  # Output: {'h': 1, 'e': 1, 'l': 2, 'o': 1}"
   ]
  },
  {
   "cell_type": "markdown",
   "metadata": {},
   "source": [
    "### Quiz ([Answers](#answers-dict-comprehensions))\n",
    "\n",
    "**1. Syntax**\n",
    "Which braces/symbols do we use for a **dictionary** comprehension?\n",
    "\n",
    "**2. Filtering**\n",
    "How do we create a dict comprehension that only includes entries if some condition is met? Provide a general example.\n",
    "\n",
    "**3. Practical Application**\n",
    "Suppose we have a dictionary `counts = {'a': 1, 'b': 3, 'c': 2}`. Write a dict comprehension to keep only `(char->count)` pairs where `count > 2`.\n",
    "\n",
    "**4. Output Prediction**\n",
    "What does `{x: x**2 for x in range(3)}` produce?\n",
    "- A. `{0: 0, 1: 1, 2: 4}`\n",
    "- B. `[0, 1, 4]`\n",
    "- C. `{0: 0, 1: 2, 2: 4}`\n",
    "- D. `{(0, 0), (1, 1), (2, 4)}`\n",
    "\n",
    "[Back to top](#top)"
   ]
  },
  {
   "cell_type": "markdown",
   "metadata": {},
   "source": [
    "## <a id=\"combined-example\"></a>3. Combined Example (List + Dict)\n",
    "\n",
    "List and dictionary comprehensions can work together to process data in stages. This is common in machine learning pipelines where you filter data (list comprehension) and then map it to a new structure (dict comprehension).\n"
   ]
  },
  {
   "cell_type": "code",
   "execution_count": null,
   "metadata": {},
   "outputs": [],
   "source": [
    "fruits = [\"apple\", \"banana\", \"pear\", \"kiwi\"]\n",
    "\n",
    "# 1) List comprehension: uppercase fruits with length > 3\n",
    "upper_fruits = [f.upper() for f in fruits if len(f) > 3]\n",
    "\n",
    "# 2) Dict comprehension: map filtered fruits to their lengths\n",
    "fruit_lengths = {uf: len(uf) for uf in upper_fruits}\n",
    "\n",
    "print(\"List of uppercase, filtered fruits:\", upper_fruits)  # ['APPLE', 'BANANA']\n",
    "print(\"Fruit->length dictionary:\", fruit_lengths)  # {'APPLE': 5, 'BANANA': 6}"
   ]
  },
  {
   "cell_type": "markdown",
   "metadata": {},
   "source": [
    "[Back to top](#top)"
   ]
  },
  {
   "cell_type": "markdown",
   "metadata": {},
   "source": [
    "## <a id=\"generators\"></a>4. Generators\n",
    "\n",
    "A **generator** produces values lazily, one at a time, rather than storing them all in memory at once. This is memory-efficient for large datasets, a key concern in neural network training. You can define a generator:\n",
    "- With a function using `yield`.\n",
    "- Using a generator expression: `(expr for x in items)`.\n",
    "\n",
    "Generators are iterable but can only be consumed once unless recreated.\n"
   ]
  },
  {
   "cell_type": "markdown",
   "metadata": {},
   "source": [
    "**Example 1** – Countdown generator with `yield`:"
   ]
  },
  {
   "cell_type": "code",
   "execution_count": null,
   "metadata": {},
   "outputs": [],
   "source": [
    "def countdown(n):\n",
    "    while n > 0:\n",
    "        yield n\n",
    "        n -= 1\n",
    "\n",
    "for val in countdown(5):\n",
    "    print(val)  # Prints: 5, 4, 3, 2, 1"
   ]
  },
  {
   "cell_type": "markdown",
   "metadata": {},
   "source": [
    "**Example 2** – Generator expression:"
   ]
  },
  {
   "cell_type": "code",
   "execution_count": null,
   "metadata": {},
   "outputs": [],
   "source": [
    "squares = (x**2 for x in range(4))\n",
    "print(list(squares))  # Output: [0, 1, 4, 9]"
   ]
  },
  {
   "cell_type": "markdown",
   "metadata": {},
   "source": [
    "### Quiz ([Answers](#answers-generators))\n",
    "\n",
    "**1. Syntax**\n",
    "Which keyword transforms a function into a generator?\n",
    "\n",
    "**2. Execution Flow**\n",
    "```python\n",
    "def gen():\n",
    "    print(\"Start\")\n",
    "    yield 1\n",
    "    print(\"Middle\")\n",
    "    yield 2\n",
    "    print(\"End\")\n",
    "g = gen()\n",
    "print(next(g))\n",
    "print(next(g))\n",
    "```\n",
    "Which lines get printed, and in what order?\n",
    "\n",
    "**3. Practical Application**\n",
    "Write a generator `evens_up_to(n)` that yields even numbers from 0 up to (and including) `n`.\n",
    "\n",
    "**4. Memory Efficiency**\n",
    "Why might a generator be preferred over a list comprehension for processing 1 million numbers?\n",
    "- A. Generators are faster to write.\n",
    "- B. Generators use less memory by yielding one value at a time.\n",
    "- C. Generators automatically parallelize computation.\n",
    "- D. Generators produce reusable outputs.\n",
    "\n",
    "[Back to top](#top)"
   ]
  },
  {
   "cell_type": "markdown",
   "metadata": {},
   "source": [
    "## <a id=\"lambdas\"></a>5. Lambda Functions\n",
    "\n",
    "A **lambda function** is a small, anonymous (unnamed) function defined with the syntax: `lambda args: expr`. It’s often used for short, inline operations like sorting keys or defining simple callbacks in neural network code.\n",
    "- Can take multiple arguments: `lambda x, y: x + y`.\n",
    "- Limited to a single expression (no statements like `if` or `return`).\n"
   ]
  },
  {
   "cell_type": "markdown",
   "metadata": {},
   "source": [
    "**Example 1** – Sorting pairs by the second element:"
   ]
  },
  {
   "cell_type": "code",
   "execution_count": null,
   "metadata": {},
   "outputs": [],
   "source": [
    "pairs = [(\"A\", 3), (\"B\", 1), (\"C\", 2)]\n",
    "sorted_pairs = sorted(pairs, key=lambda x: x[1])\n",
    "print(sorted_pairs)  # Output: [(\"B\", 1), (\"C\", 2), (\"A\", 3)]"
   ]
  },
  {
   "cell_type": "markdown",
   "metadata": {},
   "source": [
    "**Example 2** – Simple addition:"
   ]
  },
  {
   "cell_type": "code",
   "execution_count": null,
   "metadata": {},
   "outputs": [],
   "source": [
    "add = lambda x, y: x + y\n",
    "print(add(2, 3))  # Output: 5"
   ]
  },
  {
   "cell_type": "markdown",
   "metadata": {},
   "source": [
    "### Quiz ([Answers](#answers-lambdas))\n",
    "\n",
    "**1. Purpose**\n",
    "In `sorted(names, key=lambda s: len(s))`, what does the lambda do?\n",
    "\n",
    "**2. Definition**\n",
    "A lambda is anonymous because it has no ______.\n",
    "\n",
    "**3. Practical Application**\n",
    "If `data = [('A', 3), ('B', 1), ('C', 2)]`, fill in:\n",
    "```python\n",
    "data_sorted = sorted(data, key=__________)\n",
    "# => [('B', 1), ('C', 2), ('A', 3)]\n",
    "```\n",
    "\n",
    "**4. Multi-Argument Lambda**\n",
    "What does `(lambda x, y: x * y)(2, 3)` return?\n",
    "- A. 5\n",
    "- B. 6\n",
    "- C. 23\n",
    "- D. Error\n",
    "\n",
    "[Back to top](#top)"
   ]
  },
  {
   "cell_type": "markdown",
   "metadata": {},
   "source": [
    "## <a id=\"enumerate\"></a>6. Enumerate and `items()`\n",
    "\n",
    "### `enumerate()`\n",
    "`enumerate()` provides a counter while iterating over an iterable, returning `(index, value)` pairs. It’s useful for tracking positions in sequences, like indexing training data.\n",
    "- Optional `start` parameter sets the initial index (default is 0).\n",
    "\n",
    "### `dict.items()`\n",
    "For dictionaries, `.items()` returns `(key, value)` pairs, enabling iteration over both components simultaneously.\n"
   ]
  },
  {
   "cell_type": "code",
   "execution_count": null,
   "metadata": {},
   "outputs": [],
   "source": [
    "# Enumerate example\n",
    "colors = [\"red\", \"green\", \"blue\"]\n",
    "for i, color in enumerate(colors, start=1):\n",
    "    print(f\"{i}. {color}\")\n",
    "\n",
    "# Items example\n",
    "example_dict = {\"a\": 1, \"b\": 2, \"c\": 3}\n",
    "for k, v in example_dict.items():\n",
    "    print(f\"{k} -> {v}\")"
   ]
  },
  {
   "cell_type": "markdown",
   "metadata": {},
   "source": [
    "### Quiz ([Answers](#answers-enumerate))\n",
    "\n",
    "**1. Default Behavior**\n",
    "If we don’t specify `start` in `enumerate`, does it begin at 0 or 1?\n",
    "\n",
    "**2. Dictionary Iteration**\n",
    "Suppose we have `letters = {'x': 10, 'y': 20}`. How do we loop over `(key, value)` pairs with `.items()`?\n",
    "\n",
    "**3. Combined Usage**\n",
    "Show how to combine `enumerate()` and `.items()` to loop with a counter and `(k, v)` pairs.\n",
    "\n",
    "**4. Output Prediction**\n",
    "What does this print?\n",
    "```python\n",
    "d = {'a': 1, 'b': 2}\n",
    "for i, (k, v) in enumerate(d.items(), start=1):\n",
    "    print(i, k)\n",
    "```\n",
    "- A. `0 a 1 b`\n",
    "- B. `1 a 2 b`\n",
    "- C. `a 1 b 2`\n",
    "- D. Error\n",
    "\n",
    "[Back to top](#top)"
   ]
  },
  {
   "cell_type": "markdown",
   "metadata": {},
   "source": [
    "## <a id=\"zip\"></a>7. The `zip` Function\n",
    "\n",
    "`zip()` pairs elements from multiple iterables, yielding tuples in parallel. It stops at the shortest iterable’s length, making it great for aligning datasets (e.g., inputs and labels in training).\n"
   ]
  },
  {
   "cell_type": "code",
   "execution_count": null,
   "metadata": {},
   "outputs": [],
   "source": [
    "for c1, c2 in zip(\"emma\", \"mma\"):\n",
    "    print(c1, c2)  # Prints: e m, m m, m a"
   ]
  },
  {
   "cell_type": "markdown",
   "metadata": {},
   "source": [
    "**Example 2** – Pairing lists:"
   ]
  },
  {
   "cell_type": "code",
   "execution_count": null,
   "metadata": {},
   "outputs": [],
   "source": [
    "names = [\"Alice\", \"Bob\"]\n",
    "ages = [25, 30]\n",
    "print(list(zip(names, ages)))  # Output: [('Alice', 25), ('Bob', 30)]"
   ]
  },
  {
   "cell_type": "markdown",
   "metadata": {},
   "source": [
    "### Quiz ([Answers](#answers-zip))\n",
    "\n",
    "**1. Output**\n",
    "`list(zip([1, 2, 3], ['a', 'b', 'c']))` => which list?\n",
    "\n",
    "**2. Length Behavior**\n",
    "If one iterable has length 5 and another has length 3, how many tuples are produced?\n",
    "\n",
    "**3. Practical Application**\n",
    "Show how to parallel-iterate `names=['Alice', 'Bob', 'Charlie']` and `ages=[25, 30, 22]`.\n",
    "\n",
    "**4. Uneven Lengths**\n",
    "What happens if you `list(zip([1, 2], [3, 4, 5]))`?\n",
    "- A. `[(1, 3), (2, 4), (None, 5)]`\n",
    "- B. `[(1, 3), (2, 4)]`\n",
    "- C. Error\n",
    "- D. `[(1, 3, 5), (2, 4)]`\n",
    "\n",
    "[Back to top](#top)"
   ]
  },
  {
   "cell_type": "markdown",
   "metadata": {},
   "source": [
    "## <a id=\"custom-classes\"></a>8. Custom Classes & `__init__`\n",
    "\n",
    "Classes define custom objects with attributes and methods. The `__init__` method is the constructor, called when an instance is created, allowing you to initialize attributes. This is fundamental in frameworks like Karpathy’s *micrograd* for representing values in computational graphs.\n"
   ]
  },
  {
   "cell_type": "code",
   "execution_count": null,
   "metadata": {},
   "outputs": [],
   "source": [
    "class Value:\n",
    "    def __init__(self, data, _children=(), _op=''):\n",
    "        self.data = data\n",
    "        self.grad = 0.0\n",
    "        self._prev = set(_children)  # Parents in computation graph\n",
    "        self._op = _op  # Operation that produced this value\n",
    "\n",
    "x = Value(5.0)\n",
    "print(x.data, x.grad, x._op)  # Output: 5.0 0.0 ''"
   ]
  },
  {
   "cell_type": "markdown",
   "metadata": {},
   "source": [
    "### Quiz ([Answers](#answers-custom-classes))\n",
    "\n",
    "**1. Terminology**\n",
    "`self` refers to what?\n",
    "\n",
    "**2. Default Behavior**\n",
    "If `__init__` is missing, does Python raise an error or use a default?\n",
    "\n",
    "**3. Practical Application**\n",
    "Write a `Counter` class with `count=0` and an `increment()` method.\n",
    "\n",
    "**4. Initialization**\n",
    "What happens if you create `Value(3)` without the optional `_children` and `_op` parameters?\n",
    "- A. Error\n",
    "- B. Uses defaults: `_children=()` and `_op=''`\n",
    "- C. `_children` and `_op` are `None`\n",
    "- D. Only `data` is set, others are undefined\n",
    "\n",
    "[Back to top](#top)"
   ]
  },
  {
   "cell_type": "markdown",
   "metadata": {},
   "source": [
    "## <a id=\"inheritance\"></a>9. Inheritance & Overriding Methods\n",
    "\n",
    "Inheritance allows a subclass to inherit attributes and methods from a base class, with the ability to override methods for specialized behavior. This is key in neural network design for creating layers with shared properties but unique activations.\n"
   ]
  },
  {
   "cell_type": "code",
   "execution_count": null,
   "metadata": {},
   "outputs": [],
   "source": [
    "class Animal:\n",
    "    def speak(self):\n",
    "        print(\"Generic\")\n",
    "\n",
    "class Dog(Animal):\n",
    "    def speak(self):\n",
    "        print(\"Woof!\")\n",
    "\n",
    "d = Dog()\n",
    "d.speak()  # Output: Woof!"
   ]
  },
  {
   "cell_type": "markdown",
   "metadata": {},
   "source": [
    "### Quiz ([Answers](#answers-inheritance))\n",
    "\n",
    "**1. Method Resolution**\n",
    "If `B` inherits from `A` but both define `greet()`, which version runs for an instance of `B`?\n",
    "\n",
    "**2. Parent Access**\n",
    "How do we call the parent’s method from the subclass?\n",
    "\n",
    "**3. Overriding Example**\n",
    "If a base `Layer` has `activate(x)=x`, but a subclass wants `max(x, 0)` (ReLU), do we need to call the base method?\n",
    "\n",
    "**4. Inheritance Syntax**\n",
    "How do you define a class `Cat` that inherits from `Animal`?\n",
    "- A. `class Cat(Animal):`\n",
    "- B. `class Cat extends Animal:`\n",
    "- C. `class Cat: inherits Animal`\n",
    "- D. `class Cat < Animal:`\n",
    "\n",
    "[Back to top](#top)"
   ]
  },
  {
   "cell_type": "markdown",
   "metadata": {},
   "source": [
    "## <a id=\"special-methods\"></a>10. Special Methods & Operator Overloading\n",
    "\n",
    "Special (dunder) methods like `__init__`, `__repr__`, and `__add__` let you customize object behavior for built-in operations (e.g., `+`, `print`). This is crucial in libraries like *micrograd* for defining arithmetic on custom objects.\n"
   ]
  },
  {
   "cell_type": "code",
   "execution_count": null,
   "metadata": {},
   "outputs": [],
   "source": [
    "class Value:\n",
    "    def __init__(self, data):\n",
    "        self.data = data\n",
    "    def __repr__(self):\n",
    "        return f\"Value(data={self.data})\"\n",
    "    def __add__(self, other):\n",
    "        if not isinstance(other, Value):\n",
    "            other = Value(other)\n",
    "        return Value(self.data + other.data)\n",
    "\n",
    "v1 = Value(2)\n",
    "v2 = Value(3)\n",
    "v3 = v1 + v2\n",
    "print(v3)  # Output: Value(data=5)"
   ]
  },
  {
   "cell_type": "markdown",
   "metadata": {},
   "source": [
    "### Quiz ([Answers](#answers-special-methods))\n",
    "\n",
    "**1. Default Representation**\n",
    "If a class has no `__repr__`, what does printing the instance yield?\n",
    "\n",
    "**2. Operator Chaining**\n",
    "If `Vector` defines `__add__`, how does `v1 + v2 + v3` proceed?\n",
    "\n",
    "**3. Operator Definition**\n",
    "For `obj1 * obj2` to work, define which method?\n",
    "\n",
    "**4. Debugging**\n",
    "If `v1 + v2` raises a TypeError, what might be missing in the `Value` class?\n",
    "- A. `__init__`\n",
    "- B. `__add__`\n",
    "- C. `__repr__`\n",
    "- D. `self.data`\n",
    "\n",
    "[Back to top](#top)"
   ]
  },
  {
   "cell_type": "markdown",
   "metadata": {},
   "source": [
    "# <a id=\"final-bigrams\"></a>11. Putting It All Together: Counting Bigrams from `names.txt`\n",
    "\n",
    "This section ties together the concepts by processing `names.txt` (assumed to contain one name per line) to count bigrams (pairs of consecutive characters). We’ll implement it two ways:\n",
    "1. **Dictionary Approach**: Uses a dict to store `(ch1, ch2) -> count`.\n",
    "2. **2D Array Approach**: Uses a NumPy array for a matrix of transitions.\n",
    "\n",
    "### Dictionary Approach"
   ]
  },
  {
   "cell_type": "code",
   "execution_count": null,
   "metadata": {},
   "outputs": [],
   "source": [
    "# Requires 'names.txt' in the same folder\n",
    "with open('names.txt', 'r') as f:\n",
    "    words = f.read().splitlines()\n",
    "\n",
    "# Inspect the data\n",
    "print(\"First 10 names:\", words[:10])\n",
    "print(\"Total names:\", len(words))\n",
    "print(\"Min name length:\", min(len(w) for w in words))\n",
    "print(\"Max name length:\", max(len(w) for w in words))\n",
    "\n",
    "# Count bigrams with a dictionary\n",
    "b = {}\n",
    "for w in words:\n",
    "    chs = ['<S>'] + list(w) + ['<E>']  # Add start/end tokens\n",
    "    for ch1, ch2 in zip(chs, chs[1:]):\n",
    "        bigram = (ch1, ch2)\n",
    "        b[bigram] = b.get(bigram, 0) + 1\n",
    "\n",
    "# Sort by count (descending)\n",
    "sorted_bigrams = sorted(b.items(), key=lambda kv: -kv[1])\n",
    "print(\"Top 10 bigrams (dictionary approach):\", sorted_bigrams[:10])"
   ]
  },
  {
   "cell_type": "markdown",
   "metadata": {},
   "source": [
    "### 2D Array Approach"
   ]
  },
  {
   "cell_type": "code",
   "execution_count": null,
   "metadata": {},
   "outputs": [],
   "source": [
    "import numpy as np\n",
    "\n",
    "# Define characters with '.' as start/end token\n",
    "chars = sorted(list(set(''.join(words))))\n",
    "chars = ['.'] + chars\n",
    "\n",
    "# Create string-to-index and index-to-string mappings\n",
    "stoi = {s: i for i, s in enumerate(chars)}\n",
    "itos = {i: s for i, s in stoi.items()}\n",
    "\n",
    "# Initialize 2D array\n",
    "N = np.zeros((len(chars), len(chars)), dtype=int)\n",
    "\n",
    "# Fill the array with bigram counts\n",
    "for w in words:\n",
    "    chs = ['.'] + list(w) + ['.']\n",
    "    for ch1, ch2 in zip(chs, chs[1:]):\n",
    "        ix1 = stoi[ch1]\n",
    "        ix2 = stoi[ch2]\n",
    "        N[ix1, ix2] += 1\n",
    "\n",
    "print(N)  # Displays the 2D array"
   ]
  },
  {
   "cell_type": "markdown",
   "metadata": {},
   "source": [
    "**Explanation**:\n",
    "- **Dictionary**: Uses tuples as keys, flexible but unordered until sorted.\n",
    "- **2D Array**: Maps characters to indices, storing counts in a matrix; efficient for numerical operations.\n",
    "- `<S>` and `<E>` (or `.`) mark name boundaries, critical for modeling start/end transitions in language models.\n",
    "\n",
    "### Final Quiz\n",
    "\n",
    "1. **Recreate**: Write code to count bigrams from `names.txt` using either the dictionary or 2D array approach (without looking above). Compare your result.\n",
    "\n",
    "2. **Design Choice**\n",
    "Why might the 2D array approach be preferred over the dictionary for a neural network?\n",
    "- A. It’s easier to read.\n",
    "- B. It integrates better with numerical libraries like NumPy for matrix operations.\n",
    "- C. It uses less memory for small datasets.\n",
    "- D. It automatically sorts the bigrams.\n",
    "\n",
    "[Back to top](#top)"
   ]
  },
  {
   "cell_type": "markdown",
   "metadata": {},
   "source": [
    "# <a id=\"answers\"></a>12. Answers\n",
    "\n",
    "## <a id=\"answers-list-comprehensions\"></a>Answers: List Comprehensions [↩](#list-comprehensions)\n",
    "1. B – `[1, 9, 25]` (only odd squares)\n",
    "2. `[0, 1, 4, 9]`\n",
    "3. `[w[0] for w in words]` => `['N', 'N', 'Z', 'H']`\n",
    "4. B – `[\"bird\"]` (only \"bird\" has length > 3)\n",
    "\n",
    "## <a id=\"answers-dict-comprehensions\"></a>Answers: Dictionary Comprehensions [↩](#dict-comprehensions)\n",
    "1. Curly braces `{}`\n",
    "2. Add an `if` clause, e.g., `{k: v for k, v in items if v > 0}`\n",
    "3. `{c: n for c, n in counts.items() if n > 2}` => `{'b': 3}`\n",
    "4. A – `{0: 0, 1: 1, 2: 4}`\n",
    "\n",
    "## <a id=\"answers-generators\"></a>Answers: Generators [↩](#generators)\n",
    "1. `yield`\n",
    "2. Prints: `\"Start\"`, `1`, `\"Middle\"`, `2` (in that order; \"End\" on third `next()`)\n",
    "3. ```python\n",
    "def evens_up_to(n):\n",
    "    for i in range(0, n + 1, 2):\n",
    "        yield i\n",
    "```\n",
    "4. B – Generators use less memory by yielding one value at a time.\n",
    "\n",
    "## <a id=\"answers-lambdas\"></a>Answers: Lambda Functions [↩](#lambdas)\n",
    "1. Returns the length of each string for sorting.\n",
    "2. Name\n",
    "3. `key=lambda x: x[1]`\n",
    "4. B – `6` (2 * 3)\n",
    "\n",
    "## <a id=\"answers-enumerate\"></a>Answers: Enumerate and `items()` [↩](#enumerate)\n",
    "1. 0\n",
    "2. `for k, v in letters.items(): ...`\n",
    "3. ```python\n",
    "for i, (k, v) in enumerate(example_dict.items()):\n",
    "    print(i, k, v)\n",
    "```\n",
    "4. B – `1 a 2 b`\n",
    "\n",
    "## <a id=\"answers-zip\"></a>Answers: The `zip` Function [↩](#zip)\n",
    "1. `[(1, 'a'), (2, 'b'), (3, 'c')]`\n",
    "2. 3 (shortest length)\n",
    "3. ```python\n",
    "for n, a in zip(names, ages):\n",
    "    print(f\"{n} is {a}\")\n",
    "```\n",
    "4. B – `[(1, 3), (2, 4)]`\n",
    "\n",
    "## <a id=\"answers-custom-classes\"></a>Answers: Custom Classes [↩](#custom-classes)\n",
    "1. The instance of the class\n",
    "2. Uses a default `__init__`\n",
    "3. ```python\n",
    "class Counter:\n",
    "    def __init__(self):\n",
    "        self.count = 0\n",
    "    def increment(self):\n",
    "        self.count += 1\n",
    "```\n",
    "4. B – Uses defaults: `_children=()` and `_op=''`\n",
    "\n",
    "## <a id=\"answers-inheritance\"></a>Answers: Inheritance & Overriding [↩](#inheritance)\n",
    "1. `B`’s version (subclass overrides)\n",
    "2. `super().method(...)` or `ParentClass.method(self, ...)`\n",
    "3. No, just `return max(x, 0)`\n",
    "4. A – `class Cat(Animal):`\n",
    "\n",
    "## <a id=\"answers-special-methods\"></a>Answers: Special Methods [↩](#special-methods)\n",
    "1. `<ClassName object at 0x...>`\n",
    "2. Left-to-right: `(v1 + v2) + v3`\n",
    "3. `__mul__`\n",
    "4. B – `__add__`\n",
    "\n",
    "## Answers: Final Bigrams [↩](#final-bigrams)\n",
    "1. (User’s own solution to compare)\n",
    "2. B – Integrates better with numerical libraries like NumPy.\n",
    "\n",
    "[Back to top](#top)"
   ]
  }
 ],
 "metadata": {
  "kernelspec": {
   "display_name": "Python 3",
   "language": "python",
   "name": "python3"
  },
  "language_info": {
   "codemirror_mode": {
    "name": "ipython",
    "version": 3
   },
   "file_extension": ".py",
   "mimetype": "text/x-python",
   "name": "python",
   "nbconvert_exporter": "python",
   "pygments_lexer": "ipython3",
   "version": "3.8.3"
  }
 },
 "nbformat": 4,
 "nbformat_minor": 5
}
