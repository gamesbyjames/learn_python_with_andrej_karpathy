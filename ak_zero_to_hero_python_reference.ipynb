{
 "cells": [
  {
   "cell_type": "markdown",
   "metadata": {},
   "source": [
    "<a id=\"top\"></a>\n",
    "# Python Concepts from *Neural Networks: Zero to Hero*\n",
    "\n",
    "This notebook covers essential **Python features** used in Andrej Karpathy’s *Zero to Hero* notebooks, with short explanations, **multiple-choice quizzes** (line-separated), and a final bigram-counting example using `names.txt`.\n",
    "\n",
    "## Table of Contents\n",
    "1. [List Comprehensions](#list-comprehensions)\n",
    "2. [Dictionary Comprehensions](#dict-comprehensions)\n",
    "3. [Combined Example (List + Dict)](#combined-example)\n",
    "4. [Generators](#generators)\n",
    "5. [Lambda Functions](#lambdas)\n",
    "6. [Enumerate and `items()`](#enumerate)\n",
    "7. [The `zip` Function](#zip)\n",
    "8. [Custom Classes & `__init__`](#custom-classes)\n",
    "9. [Inheritance & Overriding Methods](#inheritance)\n",
    "10. [Special Methods & Operator Overloading](#special-methods)\n",
    "11. [Putting It All Together: Counting Bigrams from `names.txt`](#final-bigrams)\n",
    "12. [Answers](#answers)\n"
   ]
  },
  {
   "cell_type": "markdown",
   "metadata": {},
   "source": [
    "## <a id=\"list-comprehensions\"></a>1. List Comprehensions\n",
    "\n",
    "A **list comprehension** is a concise way to build a list from an iterable (like a list or range). The syntax:\n",
    "```python\n",
    "[ <expression> for <item> in <iterable> if <condition> ]\n",
    "```\n",
    "This can save lines of code versus a loop.\n"
   ]
  },
  {
   "cell_type": "markdown",
   "metadata": {},
   "source": [
    "**Example** – building a character index from a list of words:"
   ]
  },
  {
   "cell_type": "code",
   "metadata": {},
   "source": [
    "words = [\"andrej\", \"karpathy\", \"zero\", \"hero\"]\n",
    "chars = sorted(list(set(''.join(words))))\n",
    "char_to_index = {ch: i for i, ch in enumerate(chars)}\n",
    "print(\"Unique chars:\", chars)\n",
    "print(\"Char-to-index mapping:\", char_to_index)"
   ],
   "execution_count": null,
   "outputs": []
  },
  {
   "cell_type": "markdown",
   "metadata": {},
   "source": [
    "### Quiz ([Answers](#answers-list-comprehensions))\n",
    "\n",
    "**1. Understanding Syntax**\n",
    "```\n",
    "numbers = [1,2,3,4,5]\n",
    "squares = [n*n for n in numbers if n%2==1]\n",
    "print(squares)\n",
    "```\n",
    "- A. `[1,4,9,16,25]` (all squares)\n",
    "- B. `[1,9,25]` (only odd squares)\n",
    "- C. `[n*n for n in numbers if n%2==1]`\n",
    "- D. `[1,9,25,49,81]` (numbers 1..9)\n",
    "\n",
    "**2. Fill in the Blank**\n",
    " `[x**2 for x in range(4)]` => `________`\n",
    "\n",
    "**3.** Suppose `words = [\"Neural\",\"Networks\",\"Zero\",\"Hero\"]`. Write a list comprehension to get **first letters**.\n",
    "\n",
    "[Back to top](#top)"
   ]
  },
  {
   "cell_type": "markdown",
   "metadata": {},
   "source": [
    "## <a id=\"dict-comprehensions\"></a>2. Dictionary Comprehensions\n",
    "\n",
    "A **dictionary comprehension** uses a similar syntax but creates **key-value** pairs:\n",
    "```python\n",
    "{ <key_expr>: <value_expr> for <item> in <iterable> if <condition> }\n",
    "```\n"
   ]
  },
  {
   "cell_type": "markdown",
   "metadata": {},
   "source": [
    "**Example** – mapping chars to uppercase"
   ]
  },
  {
   "cell_type": "code",
   "metadata": {},
   "source": [
    "chars = ['a','b','c','d']\n",
    "char_map = {ch: ch.upper() for ch in chars}\n",
    "char_map"
   ],
   "execution_count": null,
   "outputs": []
  },
  {
   "cell_type": "markdown",
   "metadata": {},
   "source": [
    "### Quiz ([Answers](#answers-dict-comprehensions))\n",
    "\n",
    "**1. Syntax**\n",
    "- Which braces/symbols do we use for a **dictionary** comprehension?\n",
    "\n",
    "**2. Filtering**\n",
    "- How do we create a dict comprehension that only includes entries if some condition is met?\n",
    "\n",
    "**3.** Suppose we have `(char->count)`. Write a dict comprehension that keeps only `(char->count)` if `count>2`.\n",
    "\n",
    "[Back to top](#top)"
   ]
  },
  {
   "cell_type": "markdown",
   "metadata": {},
   "source": [
    "## <a id=\"combined-example\"></a>3. Combined Example (List + Dict)\n",
    "\n",
    "We can use **both** a list comprehension and a dict comprehension in the same snippet."
   ]
  },
  {
   "cell_type": "code",
   "metadata": {},
   "source": [
    "fruits = [\"apple\",\"banana\",\"pear\",\"kiwi\"]\n",
    "\n",
    "# 1) List comprehension: uppercase fruits that have length>3\n",
    "upper_fruits = [f.upper() for f in fruits if len(f)>3]\n",
    "\n",
    "# 2) Dict comprehension: fruit->length\n",
    "fruit_lengths = {uf: len(uf) for uf in upper_fruits}\n",
    "\n",
    "print(\"List of uppercase, filtered fruits:\", upper_fruits)\n",
    "print(\"Fruit->length dictionary:\", fruit_lengths)"
   ],
   "execution_count": null,
   "outputs": []
  },
  {
   "cell_type": "markdown",
   "metadata": {},
   "source": [
    "[Back to top](#top)"
   ]
  },
  {
   "cell_type": "markdown",
   "metadata": {},
   "source": [
    "## <a id=\"generators\"></a>4. Generators\n",
    "\n",
    "A **generator** yields items lazily. You create one with `yield` in a function or a generator expression `(expr for x in items)`."
   ]
  },
  {
   "cell_type": "markdown",
   "metadata": {},
   "source": [
    "**Example** – a countdown generator"
   ]
  },
  {
   "cell_type": "code",
   "metadata": {},
   "source": [
    "def countdown(n):\n",
    "    while n>0:\n",
    "        yield n\n",
    "        n -= 1\n",
    "\n",
    "for val in countdown(5):\n",
    "    print(val)"
   ],
   "execution_count": null,
   "outputs": []
  },
  {
   "cell_type": "markdown",
   "metadata": {},
   "source": [
    "### Quiz ([Answers](#answers-generators))\n",
    "\n",
    "**1.** Which keyword makes a function into a generator?\n",
    "\n",
    "**2.** If we do:\n",
    "```\n",
    "def gen():\n",
    "    print(\"Start\")\n",
    "    yield 1\n",
    "    print(\"Middle\")\n",
    "    yield 2\n",
    "    print(\"End\")\n",
    "g=gen()\n",
    "print(next(g))\n",
    "print(next(g))\n",
    "```\n",
    "- Which lines get printed?\n",
    "\n",
    "**3.** Write a generator `evens_up_to(n)` that yields even numbers from 0..n.\n",
    "\n",
    "[Back to top](#top)"
   ]
  },
  {
   "cell_type": "markdown",
   "metadata": {},
   "source": [
    "## <a id=\"lambdas\"></a>5. Lambda Functions\n",
    "\n",
    "A **lambda** is a short, anonymous function: `lambda args: expr`. Often used for sorting keys or short callbacks."
   ]
  },
  {
   "cell_type": "markdown",
   "metadata": {},
   "source": [
    "**Example** – sorting with a lambda"
   ]
  },
  {
   "cell_type": "code",
   "metadata": {},
   "source": [
    "pairs = [(\"A\",3),(\"B\",1),(\"C\",2)]\n",
    "sorted_pairs = sorted(pairs, key=lambda x: x[1])\n",
    "sorted_pairs"
   ],
   "execution_count": null,
   "outputs": []
  },
  {
   "cell_type": "markdown",
   "metadata": {},
   "source": [
    "### Quiz ([Answers](#answers-lambdas))\n",
    "\n",
    "**1.** `sorted(names, key=lambda s: len(s))` – what does the lambda do?\n",
    "\n",
    "**2.** A lambda is anonymous because it has no ______.\n",
    "\n",
    "**3.** If `data=[('A',3),('B',1),('C',2)]`, fill in:\n",
    "```\n",
    "data_sorted = sorted(data, key=__________)\n",
    "# => [('B',1),('C',2),('A',3)]\n",
    "```\n",
    "\n",
    "[Back to top](#top)"
   ]
  },
  {
   "cell_type": "markdown",
   "metadata": {},
   "source": [
    "## <a id=\"enumerate\"></a>6. Enumerate and `items()`\n",
    "\n",
    "### `enumerate()`\n",
    "Lets you loop over a sequence while automatically giving an **index**."
   ]
  },
  {
   "cell_type": "code",
   "metadata": {},
   "source": [
    "colors = [\"red\",\"green\",\"blue\"]\n",
    "for i, color in enumerate(colors, start=1):\n",
    "    print(i, color)"
   ],
   "execution_count": null,
   "outputs": []
  },
  {
   "cell_type": "markdown",
   "metadata": {},
   "source": [
    "### `dict.items()`\n",
    "For **dictionaries**, `.items()` yields `(key,value)` pairs.\n"
   ]
  },
  {
   "cell_type": "code",
   "metadata": {},
   "source": [
    "example_dict = {\"a\":1, \"b\":2, \"c\":3}\n",
    "for k, v in example_dict.items():\n",
    "    print(k, \"->\", v)"
   ],
   "execution_count": null,
   "outputs": []
  },
  {
   "cell_type": "markdown",
   "metadata": {},
   "source": [
    "**Quiz ([Answers](#answers-enumerate))**\n",
    "\n",
    "**1.** If we don’t specify `start`, does `enumerate` begin at 0 or 1?\n",
    "\n",
    "**2.** Suppose we have `letters = {'x':10, 'y':20}`. How do we loop over `(key,value)` pairs with `.items()`?\n",
    "\n",
    "**3.** Show how to combine `enumerate()` **and** `.items()` if you need both a counter and `(k,v)` pairs. For example:\n",
    "```\n",
    "for i, (k,v) in enumerate(example_dict.items()):\n",
    "    # do stuff\n",
    "```\n",
    "\n",
    "[Back to top](#top)"
   ]
  },
  {
   "cell_type": "markdown",
   "metadata": {},
   "source": [
    "## <a id=\"zip\"></a>7. The `zip` Function\n",
    "\n",
    "`zip()` iterates multiple sequences in parallel, stopping at the shortest. Each iteration yields a tuple with elements from each sequence."
   ]
  },
  {
   "cell_type": "code",
   "metadata": {},
   "source": [
    "for c1, c2 in zip(\"emma\",\"mma\"):\n",
    "    print(c1, c2)"
   ],
   "execution_count": null,
   "outputs": []
  },
  {
   "cell_type": "markdown",
   "metadata": {},
   "source": [
    "### Quiz ([Answers](#answers-zip))\n",
    "\n",
    "**1.** `list(zip([1,2,3], ['a','b','c']))` => which list?\n",
    "\n",
    "**2.** If lengths are 5 & 3, how many tuples are produced?\n",
    "\n",
    "**3.** Show how to parallel-iterate `names=['Alice','Bob','Charlie']` and `ages=[25,30,22]`.\n",
    "\n",
    "[Back to top](#top)"
   ]
  },
  {
   "cell_type": "markdown",
   "metadata": {},
   "source": [
    "## <a id=\"custom-classes\"></a>8. Custom Classes & `__init__`\n",
    "\n",
    "When you instantiate a class, Python calls `__init__`. You can define attributes or do setup. Example from Karpathy’s micrograd `Value` (simplified)."
   ]
  },
  {
   "cell_type": "code",
   "metadata": {},
   "source": [
    "class Value:\n",
    "    def __init__(self, data, _children=(), _op=''):\n",
    "        self.data = data\n",
    "        self.grad = 0.0\n",
    "        self._prev = set(_children)\n",
    "        self._op = _op\n",
    "\n",
    "x = Value(5.0)\n",
    "x.data, x.grad, x._op"
   ],
   "execution_count": null,
   "outputs": []
  },
  {
   "cell_type": "markdown",
   "metadata": {},
   "source": [
    "### Quiz ([Answers](#answers-custom-classes))\n",
    "\n",
    "**1.** `self` refers to what?\n",
    "\n",
    "**2.** If `__init__` is missing, does Python raise an error or use a default?\n",
    "\n",
    "**3.** Write a `Counter` class with `count=0` + `increment()` method.\n",
    "\n",
    "[Back to top](#top)"
   ]
  },
  {
   "cell_type": "markdown",
   "metadata": {},
   "source": [
    "## <a id=\"inheritance\"></a>9. Inheritance & Overriding Methods\n",
    "\n",
    "A subclass can inherit from a base class and override some methods as needed."
   ]
  },
  {
   "cell_type": "code",
   "metadata": {},
   "source": [
    "class Animal:\n",
    "    def speak(self):\n",
    "        print(\"Generic\")\n",
    "\n",
    "class Dog(Animal):\n",
    "    def speak(self):\n",
    "        print(\"Woof!\")\n",
    "\n",
    "d = Dog()\n",
    "d.speak()"
   ],
   "execution_count": null,
   "outputs": []
  },
  {
   "cell_type": "markdown",
   "metadata": {},
   "source": [
    "### Quiz ([Answers](#answers-inheritance))\n",
    "\n",
    "**1.** If `B` inherits from `A` but both define `greet()`, which version runs for `B`?\n",
    "\n",
    "**2.** How do we call the parent’s method from the subclass?\n",
    "\n",
    "**3.** If `Layer.activate(x)=x` in the base, but a subclass wants `max(x,0)`, do we call base?\n",
    "\n",
    "[Back to top](#top)"
   ]
  },
  {
   "cell_type": "markdown",
   "metadata": {},
   "source": [
    "## <a id=\"special-methods\"></a>10. Special Methods & Operator Overloading\n",
    "\n",
    "Python’s **dunder** methods (like `__init__`, `__repr__`, `__add__`) allow you to redefine built-in behaviors (like printing or using `+`)."
   ]
  },
  {
   "cell_type": "markdown",
   "metadata": {},
   "source": [
    "**Example** – Overriding `__repr__` and `__add__`"
   ]
  },
  {
   "cell_type": "code",
   "metadata": {},
   "source": [
    "class Value:\n",
    "    def __init__(self, data):\n",
    "        self.data = data\n",
    "    def __repr__(self):\n",
    "        return f\"Value(data={self.data})\"\n",
    "    def __add__(self, other):\n",
    "        if not isinstance(other, Value):\n",
    "            other = Value(other)\n",
    "        return Value(self.data + other.data)\n",
    "\n",
    "v1 = Value(2)\n",
    "v2 = Value(3)\n",
    "v3 = v1 + v2\n",
    "v3"
   ],
   "execution_count": null,
   "outputs": []
  },
  {
   "cell_type": "markdown",
   "metadata": {},
   "source": [
    "### Quiz ([Answers](#answers-special-methods))\n",
    "\n",
    "**1.** If a class has no `__repr__`, printing the instance yields?\n",
    "\n",
    "**2.** If `Vector` defines `__add__`, how does `v1 + v2 + v3` proceed?\n",
    "\n",
    "**3.** For `obj1 * obj2`, define `______`.\n",
    "\n",
    "[Back to top](#top)"
   ]
  },
  {
   "cell_type": "markdown",
   "metadata": {},
   "source": [
    "# <a id=\"final-bigrams\"></a>11. Putting It All Together: Counting Bigrams from `names.txt`\n",
    "\n",
    "Below, we’ll **read** names from a file (`names.txt`) and count bigrams in two ways:\n",
    "1. **Dictionary** approach – `(ch1,ch2)->count`.\n",
    "2. **2D array** approach – using a plain numeric array (like `numpy`) to track transitions.\n",
    "\n",
    "### Dictionary Approach"
   ]
  },
  {
   "cell_type": "code",
   "metadata": {},
   "source": [
    "# This cell is executable if you have 'names.txt' in the same folder.\n",
    "# 1) Read from 'names.txt'\n",
    "with open('names.txt','r') as f:\n",
    "    words = f.read().splitlines()\n",
    "\n",
    "# 2) Inspect\n",
    "print(\"First 10 names:\", words[:10])\n",
    "print(\"Total names:\", len(words))\n",
    "print(\"Min name length:\", min(len(w) for w in words))\n",
    "print(\"Max name length:\", max(len(w) for w in words))\n",
    "\n",
    "# 3) Build dictionary (ch1,ch2) -> count\n",
    "b = {}\n",
    "for w in words:\n",
    "    chs = ['<S>'] + list(w) + ['<E>']\n",
    "    for ch1, ch2 in zip(chs, chs[1:]):\n",
    "        bigram = (ch1, ch2)\n",
    "        b[bigram] = b.get(bigram, 0) + 1\n",
    "\n",
    "# 4) Sort descending\n",
    "sorted_bigrams = sorted(b.items(), key=lambda kv: -kv[1])\n",
    "print(\"Top 10 bigrams (dictionary approach):\", sorted_bigrams[:10])"
   ],
   "execution_count": null,
   "outputs": []
  },
  {
   "cell_type": "markdown",
   "metadata": {},
   "source": [
    "### 2D Array Approach\n",
    "Here we store bigram counts in a 2D array using numpy.\n"
   ]
  },
  {
   "cell_type": "code",
   "metadata": {},
   "source": [
    "import numpy as np\n",
    "\n",
    "# We'll define '.' as our start/end token.\n",
    "chars = sorted(list(set(''.join(words))))\n",
    "chars = ['.'] + chars\n",
    "\n",
    "stoi = {s: i for i,s in enumerate(chars)}\n",
    "itos = {i: s for s,i in stoi.items()}\n",
    "\n",
    "N = np.zeros((len(chars), len(chars)), dtype=int)\n",
    "\n",
    "for w in words:\n",
    "    chs = ['.'] + list(w) + ['.']\n",
    "    for ch1, ch2 in zip(chs, chs[1:]):\n",
    "        ix1 = stoi[ch1]\n",
    "        ix2 = stoi[ch2]\n",
    "        N[ix1, ix2] += 1\n",
    "\n",
    "N"
   ],
   "execution_count": null,
   "outputs": []
  },
  {
   "cell_type": "markdown",
   "metadata": {},
   "source": [
    "**Explanation**:\n",
    "- We add `.` at the start and end.\n",
    "- Each `(ch1->ch2)` transition increments `N[ix1,ix2]`.\n",
    "- `chars` is a list of all unique letters plus `.`.\n",
    "\n",
    "### Final Quiz\n",
    "\n",
    "Try to **recreate** the bigram code (dictionary or 2D array) **from scratch** using `names.txt`. \n",
    "- **Don’t** peek at the above solution.\n",
    "- Once done, compare your version to see if the logic matches.\n",
    "\n",
    "[Back to top](#top)"
   ]
  },
  {
   "cell_type": "markdown",
   "metadata": {},
   "source": [
    "# <a id=\"answers\"></a>12. Answers\n",
    "\n",
    "## <a id=\"answers-list-comprehensions\"></a>Answers: List Comprehensions [↩](#list-comprehensions)\n",
    "1. B – `[1,9,25]` (only odd squares)\n",
    "2. `[0,1,4,9]`\n",
    "3. `[w[0] for w in words]`\n",
    "\n",
    "## <a id=\"answers-dict-comprehensions\"></a>Answers: Dictionary Comprehensions [↩](#dict-comprehensions)\n",
    "1. Curly braces `{...}` instead of brackets.\n",
    "2. e.g. `{k: v for k,v in something if condition}`.\n",
    "3. e.g. `{c: n for (c,n) in counts.items() if n>2}`.\n",
    "\n",
    "## (No direct quiz for the combined example)\n",
    "\n",
    "## <a id=\"answers-generators\"></a>Answers: Generators [↩](#generators)\n",
    "1. `yield`\n",
    "2. Prints \"Start\" => yields 1; \"Middle\" => yields 2; next call prints \"End\".\n",
    "3. Example:\n",
    "```python\n",
    "def evens_up_to(n):\n",
    "    for i in range(0,n+1,2):\n",
    "        yield i\n",
    "```\n",
    "\n",
    "## <a id=\"answers-lambdas\"></a>Answers: Lambda Functions [↩](#lambdas)\n",
    "1. It returns the length of each name for sorting.\n",
    "2. No **name**.\n",
    "3. `key=lambda x: x[1]`\n",
    "\n",
    "## <a id=\"answers-enumerate\"></a>Answers: Enumerate and `items()` [↩](#enumerate)\n",
    "1. It starts at 0 by default.\n",
    "2. `for k,v in letters.items(): ...`\n",
    "3. e.g.\n",
    "```python\n",
    "for i, (k,v) in enumerate(example_dict.items()):\n",
    "    print(i, k, v)\n",
    "```\n",
    "\n",
    "## <a id=\"answers-zip\"></a>Answers: The `zip` Function [↩](#zip)\n",
    "1. `[(1,'a'),(2,'b'),(3,'c')]`\n",
    "2. 3\n",
    "3. `for n,a in zip(names, ages): print(f\"{n} is {a}\")`\n",
    "\n",
    "## <a id=\"answers-custom-classes\"></a>Answers: Custom Classes [↩](#custom-classes)\n",
    "1. `self` is the instance.\n",
    "2. Python calls a default `__init__`.\n",
    "3. ```python\n",
    "class Counter:\n",
    "    def __init__(self):\n",
    "        self.count = 0\n",
    "    def increment(self):\n",
    "        self.count += 1\n",
    "```\n",
    "\n",
    "## <a id=\"answers-inheritance\"></a>Answers: Inheritance & Overriding [↩](#inheritance)\n",
    "1. Subclass method overrides.\n",
    "2. `super().method(...)` or `ParentClass.method(self, ...)`\n",
    "3. `return max(x, 0)`\n",
    "\n",
    "## <a id=\"answers-special-methods\"></a>Answers: Special Methods [↩](#special-methods)\n",
    "1. `<MyClass object at 0x...>`\n",
    "2. It calls `__add__` twice in left->right order.\n",
    "3. `__mul__`\n",
    "\n",
    "[Back to top](#top)"
   ]
  }
 ],
 "metadata": {
  "kernelspec": {
   "display_name": "Python 3",
   "language": "python",
   "name": "python3"
  },
  "language_info": {
   "name": "python"
  }
 },
 "nbformat": 4,
 "nbformat_minor": 5
}
