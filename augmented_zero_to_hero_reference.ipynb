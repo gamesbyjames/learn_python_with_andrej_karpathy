{
 "cells": [
  {
   "cell_type": "markdown",
   "metadata": {},
   "source": [
    "# Augmented Python Reference\n",
    "\n",
    "This notebook **expands on** the [original shorter reference material](https://gamesbyjames.github.io/learn_python_with_andrej_karpathy/ak_zero_to_hero_python_reference.html) by diving deeper into Python concepts suitable for learners progressing from beginner to intermediate levels. It introduces practical tools and techniques commonly encountered in real-world programming, especially in data science and machine learning workflows—though we stick to pure Python and NumPy here, avoiding deep learning frameworks like TensorFlow or PyTorch.\n",
    "\n",
    "All code examples use **pure Python + NumPy** to ensure broad applicability. You’re encouraged to **run each code cell** to see the outputs and experiment with modifications. To test your understanding, **quizzes** are sprinkled throughout with multiple-choice options separated by lines. Answers are provided in the [Answers](#answers) section at the end, linked back to each quiz for easy reference."
   ]
  },
  {
   "cell_type": "markdown",
   "metadata": {},
   "source": [
    "## Table of Contents\n",
    "1. [Setup (Imports)](#setup)\n",
    "2. [Advanced List Operations & Comprehensions](#list-comprehensions)\n",
    "3. [NumPy Array Operations](#numpy)\n",
    "4. [Functional Programming (map, filter, reduce, lambdas)](#functional)\n",
    "5. [Object-Oriented Programming (OOP)](#oop)\n",
    "6. [Decorators](#decorators)\n",
    "7. [Context Managers](#context)\n",
    "8. [Python Type Hints](#type-hints)\n",
    "9. [Efficient Iteration (Generators, itertools, Batching)](#efficient-iteration)\n",
    "10. [Error Handling (try/except)](#error-handling)\n",
    "11. [Advanced String Formatting (f-strings)](#string-formatting)\n",
    "12. [Conclusion](#conclusion)\n",
    "13. [Answers](#answers)\n"
   ]
  },
  {
   "cell_type": "markdown",
   "metadata": {},
   "source": [
    "<a id=\"setup\"></a>\n",
    "# 1. Setup (Imports)\n",
    "\n",
    "Before diving into the examples, we need to import a few essential Python modules. Ensure you have **NumPy** installed (`pip install numpy`) as it’s critical for numerical operations in later sections. The imports below bring in tools for arrays (NumPy), functional programming (`reduce` from `functools`), timing (`time`), and type annotations (`List` from `typing`). This cell sets the stage for everything that follows."
   ]
  },
  {
   "cell_type": "code",
   "execution_count": 2,
   "metadata": {},
   "outputs": [
    {
     "name": "stdout",
     "output_type": "stream",
     "text": [
      "Imports complete.\n"
     ]
    }
   ],
   "source": [
    "import numpy as np\n",
    "from functools import reduce\n",
    "import time\n",
    "from typing import List\n",
    "print(\"Imports complete.\")"
   ]
  },
  {
   "cell_type": "markdown",
   "metadata": {},
   "source": [
    "<a id=\"list-comprehensions\"></a>\n",
    "# 2. Advanced List Operations & Comprehensions\n",
    "\n",
    "You’re likely familiar with basic list comprehensions like `[x+1 for x in some_list]` to transform a list. This section explores **advanced techniques** that go beyond the basics, offering concise yet powerful ways to manipulate data. These include:\n",
    "- **Nested list comprehensions**: Handling multi-dimensional data, such as flattening a matrix.\n",
    "- **Using `zip`**: Pairing elements from multiple lists for parallel iteration.\n",
    "- **Unzipping with `zip(*...)`**: Reversing the pairing process to split data back apart.\n",
    "\n",
    "These patterns are particularly useful in data preprocessing tasks—think preparing inputs for machine learning models—where you need to transform or restructure datasets efficiently."
   ]
  },
  {
   "cell_type": "code",
   "execution_count": 3,
   "metadata": {},
   "outputs": [
    {
     "name": "stdout",
     "output_type": "stream",
     "text": [
      "Original matrix: [[1, 2, 3], [4, 5, 6]]\n",
      "Flattened list: [1, 2, 3, 4, 5, 6]\n"
     ]
    }
   ],
   "source": [
    "# Example: Nested list comprehension to flatten a 2D list\n",
    "# Here, 'matrix' is a list of lists (a 2D structure). The nested comprehension\n",
    "# iterates over each sublist 'x' and then each element 'y' within it.\n",
    "matrix = [[1, 2, 3], [4, 5, 6]]\n",
    "flattened = [y for x in matrix for y in x]\n",
    "print(\"Original matrix:\", matrix)\n",
    "print(\"Flattened list:\", flattened)"
   ]
  },
  {
   "cell_type": "markdown",
   "metadata": {},
   "source": [
    "**Parallel Iteration with `zip`**\n",
    "\n",
    "The **`zip`** function pairs up elements from multiple iterables (like lists), creating tuples of corresponding items. This is handy for tasks like combining features or labels in datasets. You can also **unzip** paired data using `zip(*...)` to reverse the process, splitting the tuples back into separate sequences."
   ]
  },
  {
   "cell_type": "code",
   "execution_count": 4,
   "metadata": {},
   "outputs": [
    {
     "name": "stdout",
     "output_type": "stream",
     "text": [
      "Zipped pairs: [(1, 10), (2, 20), (3, 30)]\n",
      "Element-wise sums: [11, 22, 33]\n",
      "Unzipped nums: (1, 2, 3)\n",
      "Unzipped tens: (10, 20, 30)\n",
      "Zipped triples: [(1, 10, 'a'), (2, 20, 'b'), (3, 30, 'c')]\n"
     ]
    }
   ],
   "source": [
    "list1 = [1, 2, 3]\n",
    "list2 = [10, 20, 30]\n",
    "\n",
    "# Zipping combines the lists into pairs\n",
    "paired = list(zip(list1, list2))\n",
    "print(\"Zipped pairs:\", paired)\n",
    "\n",
    "# Using zip in a comprehension for element-wise operations\n",
    "sum_list = [a + b for (a, b) in zip(list1, list2)]\n",
    "print(\"Element-wise sums:\", sum_list)\n",
    "\n",
    "# Unzipping splits the pairs back into separate lists\n",
    "nums, tens = zip(*paired)\n",
    "print(\"Unzipped nums:\", nums)  # Note: unzip returns tuples, not lists\n",
    "print(\"Unzipped tens:\", tens)\n",
    "\n",
    "# Additional example: Zipping more than two lists\n",
    "list3 = ['a', 'b', 'c']\n",
    "triples = list(zip(list1, list2, list3))\n",
    "print(\"Zipped triples:\", triples)"
   ]
  },
  {
   "cell_type": "markdown",
   "metadata": {},
   "source": [
    "## **Quiz 1** ([Answer](#answer-1))\n",
    "\n",
    "What will be the result of this code?\n",
    "```python\n",
    "matrix = [[1, 2], [3, 4], [5, 6]]\n",
    "result = [y*2 for x in matrix for y in x if y % 2 == 1]\n",
    "print(result)\n",
    "```\n",
    "Options:\n",
    "\n",
    "A. `[2, 6, 10]`\n",
    "\n",
    "B. `[2, 4, 6, 8, 10, 12]`\n",
    "\n",
    "C. `[2, 6, 10, 12]`\n",
    "\n",
    "\n",
    "[Back to top](#top)"
   ]
  },
  {
   "cell_type": "markdown",
   "metadata": {},
   "source": [
    "<a id=\"numpy\"></a>\n",
    "# 3. NumPy Array Operations\n",
    "\n",
    "NumPy is the backbone of numerical computing in Python, providing efficient multi-dimensional arrays and operations. This section covers key features you’ll encounter frequently:\n",
    "\n",
    "- **Array creation**: Build arrays with `np.array`, `np.zeros`, `np.ones`, or other helpers.\n",
    "- **Broadcasting**: Automatically align arrays of different shapes for arithmetic operations.\n",
    "- **Slicing/Indexing**: Access parts of arrays, extended to multiple dimensions (e.g., rows, columns).\n",
    "- **Reshaping**: Change an array’s shape without altering its data, crucial for data preparation.\n",
    "- **Element-wise math**: Apply operations like addition, multiplication, or functions (e.g., `np.sin`) across all elements.\n",
    "\n",
    "These tools are foundational for tasks like matrix computations in machine learning or scientific simulations."
   ]
  },
  {
   "cell_type": "code",
   "execution_count": 5,
   "metadata": {},
   "outputs": [
    {
     "name": "stdout",
     "output_type": "stream",
     "text": [
      "Array a:\n",
      " [[1 2 3]\n",
      " [4 5 6]]\n",
      "\n",
      "Array b: [10 20 30]\n",
      "\n",
      "Broadcasted a + b:\n",
      " [[11 22 33]\n",
      " [14 25 36]]\n"
     ]
    }
   ],
   "source": [
    "# Broadcasting example\n",
    "# Array 'a' is 2D (2 rows, 3 columns), while 'b' is 1D (3 elements).\n",
    "# NumPy 'broadcasts' 'b' to match 'a’s rows, adding it to each.\n",
    "a = np.array([[1, 2, 3],\n",
    "              [4, 5, 6]])\n",
    "b = np.array([10, 20, 30])\n",
    "print(\"Array a:\\n\", a)\n",
    "print(\"\\nArray b:\", b)\n",
    "print(\"\\nBroadcasted a + b:\\n\", a + b)"
   ]
  },
  {
   "cell_type": "code",
   "execution_count": 6,
   "metadata": {},
   "outputs": [
    {
     "name": "stdout",
     "output_type": "stream",
     "text": [
      "First two columns of a:\n",
      " [[1 2]\n",
      " [4 5]]\n",
      "\n",
      "Reshaped a to 3x2:\n",
      " [[1 2]\n",
      " [3 4]\n",
      " [5 6]]\n",
      "\n",
      "Flattened a:\n",
      " [1 2 3 4 5 6]\n",
      "\n",
      "Array of zeros (2x3):\n",
      " [[0. 0. 0.]\n",
      " [0. 0. 0.]]\n"
     ]
    }
   ],
   "source": [
    "# Slicing and reshaping\n",
    "# Slicing: ':' means all rows, ':2' means first two columns\n",
    "subarray = a[:, :2]\n",
    "print(\"First two columns of a:\\n\", subarray)\n",
    "\n",
    "# Reshape to 3 rows, 2 columns (must match total elements: 6)\n",
    "reshaped = a.reshape(3, 2)\n",
    "print(\"\\nReshaped a to 3x2:\\n\", reshaped)\n",
    "\n",
    "# Flatten to 1D using -1 (infers size automatically)\n",
    "flattened = a.reshape(-1)\n",
    "print(\"\\nFlattened a:\\n\", flattened)\n",
    "\n",
    "# Additional example: Creating arrays from scratch\n",
    "zeros = np.zeros((2, 3))\n",
    "print(\"\\nArray of zeros (2x3):\\n\", zeros)"
   ]
  },
  {
   "cell_type": "code",
   "execution_count": 7,
   "metadata": {},
   "outputs": [
    {
     "name": "stdout",
     "output_type": "stream",
     "text": [
      "Element-wise multiplication (a * 2):\n",
      " [[ 2  4  6]\n",
      " [ 8 10 12]]\n",
      "Element-wise squaring (a ** 2):\n",
      " [[ 1  4  9]\n",
      " [16 25 36]]\n",
      "Element-wise sine (np.sin(a)):\n",
      " [[ 0.84147098  0.90929743  0.14112001]\n",
      " [-0.7568025  -0.95892427 -0.2794155 ]]\n",
      "\n",
      "Scaled rows (broadcasted multiplication):\n",
      " [[ 2  4  6]\n",
      " [12 15 18]]\n"
     ]
    }
   ],
   "source": [
    "# Element-wise operations\n",
    "print(\"Element-wise multiplication (a * 2):\\n\", a * 2)\n",
    "print(\"Element-wise squaring (a ** 2):\\n\", a ** 2)\n",
    "print(\"Element-wise sine (np.sin(a)):\\n\", np.sin(a))\n",
    "\n",
    "# Another broadcasting example\n",
    "# 'factors' is (2,1), broadcasted across 'a’s columns\n",
    "factors = np.array([[2], [3]])  # shape (2,1)\n",
    "scaled_rows = a * factors\n",
    "print(\"\\nScaled rows (broadcasted multiplication):\\n\", scaled_rows)"
   ]
  },
  {
   "cell_type": "markdown",
   "metadata": {},
   "source": [
    "## **Quiz 2** ([Answer](#answer-2))\n",
    "\n",
    "Suppose `X` is shape `(5,4)` and `v` is shape `(4,)`. If we do `Y = X + v`, what is `Y.shape` due to broadcasting?\n",
    "\n",
    "Options:\n",
    "\n",
    "A. `(5, 4)`\n",
    "\n",
    "B. `(4, 5)`\n",
    "\n",
    "C. `(5, 4, 4)`\n",
    "\n",
    "D. Broadcasting is not possible.\n",
    "\n",
    "\n",
    "[Back to top](#top)"
   ]
  },
  {
   "cell_type": "markdown",
   "metadata": {},
   "source": [
    "<a id=\"functional\"></a>\n",
    "# 4. Functional Programming (map, filter, reduce, lambdas)\n",
    "\n",
    "Python supports a functional programming style alongside list comprehensions, offering tools like `map`, `filter`, and `reduce`. These functions process iterables in a declarative way:\n",
    "\n",
    "- **`map(func, iterable)`**: Applies `func` to each item, returning an iterator of results—think transforming data point-by-point.\n",
    "- **`filter(func, iterable)`**: Keeps only items where `func(item)` is `True`, useful for selecting subsets.\n",
    "- **`reduce(func, iterable)`**: Combines all items into a single value by repeatedly applying `func` (requires `from functools import reduce`).\n",
    "- **`lambda`**: Defines small, anonymous functions inline, perfect for quick operations without a full `def`.\n",
    "\n",
    "These are alternatives to loops or comprehensions, often seen in concise, readable codebases."
   ]
  },
  {
   "cell_type": "code",
   "execution_count": 8,
   "metadata": {},
   "outputs": [
    {
     "name": "stdout",
     "output_type": "stream",
     "text": [
      "Squares: [1, 4, 9, 16, 25]\n",
      "Evens: [2, 4]\n",
      "Product of all: 120\n",
      "Squares of odds: [1, 9, 25]\n"
     ]
    }
   ],
   "source": [
    "nums = [1, 2, 3, 4, 5]\n",
    "\n",
    "# Map: Square each number\n",
    "squares = list(map(lambda x: x**2, nums))\n",
    "print(\"Squares:\", squares)\n",
    "\n",
    "# Filter: Keep even numbers\n",
    "evens = list(filter(lambda x: x % 2 == 0, nums))\n",
    "print(\"Evens:\", evens)\n",
    "\n",
    "# Reduce: Multiply all numbers together\n",
    "product = reduce(lambda a, b: a * b, nums)\n",
    "print(\"Product of all:\", product)\n",
    "\n",
    "# Additional example: Combining map and filter\n",
    "odd_squares = list(map(lambda x: x**2, filter(lambda x: x % 2 == 1, nums)))\n",
    "print(\"Squares of odds:\", odd_squares)"
   ]
  },
  {
   "cell_type": "markdown",
   "metadata": {},
   "source": [
    "## **Quiz 3** ([Answer](#answer-3))\n",
    "\n",
    "Which snippet **also** produces `[2, 3, 4]` (the same result as `list(map(lambda x: x+1, [1, 2, 3]))`)?\n",
    "\n",
    "Options:\n",
    "\n",
    "A. `[x + 1 for x in [1, 2, 3]]`\n",
    "\n",
    "B. `list(filter(lambda x: x+1, [1, 2, 3]))`\n",
    "\n",
    "C. `for x in [1, 2, 3]: x+1`\n",
    "\n",
    "\n",
    "[Back to top](#top)"
   ]
  },
  {
   "cell_type": "markdown",
   "metadata": {},
   "source": [
    "<a id=\"oop\"></a>\n",
    "# 5. Object-Oriented Programming (OOP)\n",
    "\n",
    "OOP in Python revolves around **classes**, which bundle data (attributes) and behavior (methods) into reusable objects. Core concepts include:\n",
    "- **Inheritance**: A subclass inherits and extends a base class’s functionality.\n",
    "- **Encapsulation**: Grouping related data and methods, with `_variable` convention signaling “private” (though not enforced).\n",
    "- **Polymorphism**: Different classes can implement the same method name in unique ways, allowing flexible code.\n",
    "\n",
    "OOP shines in modeling real-world systems or organizing complex codebases, like simulations or frameworks."
   ]
  },
  {
   "cell_type": "code",
   "execution_count": 9,
   "metadata": {},
   "outputs": [
    {
     "name": "stdout",
     "output_type": "stream",
     "text": [
      "Buddy says: Woof!\n",
      "Whiskers says: Meow!\n",
      "Generic makes a noise.\n",
      "Buddy has energy 100.\n"
     ]
    }
   ],
   "source": [
    "class Animal:\n",
    "    def __init__(self, name):\n",
    "        self.name = name\n",
    "        self._energy = 100  # '_energy' suggests it’s internal\n",
    "\n",
    "    def speak(self):\n",
    "        print(f\"{self.name} makes a noise.\")\n",
    "\n",
    "    def info(self):\n",
    "        print(f\"{self.name} has energy {self._energy}.\")\n",
    "\n",
    "class Dog(Animal):\n",
    "    def speak(self):\n",
    "        print(f\"{self.name} says: Woof!\")\n",
    "\n",
    "class Cat(Animal):\n",
    "    def speak(self):\n",
    "        print(f\"{self.name} says: Meow!\")\n",
    "\n",
    "# Polymorphism: same method call, different outputs\n",
    "animals = [Dog(\"Buddy\"), Cat(\"Whiskers\"), Animal(\"Generic\")]\n",
    "for a in animals:\n",
    "    a.speak()\n",
    "\n",
    "animals[0].info()"
   ]
  },
  {
   "cell_type": "markdown",
   "metadata": {},
   "source": [
    "## **Quiz 4** ([Answer](#answer-4))\n",
    "\n",
    "When two subclasses (like `Dog` and `Cat`) each **override** `speak()`, and you call `animal.speak()`, it runs the class-specific method. This is called _____.\n",
    "\n",
    "Options:\n",
    "\n",
    "A. Inheritance\n",
    "\n",
    "B. Encapsulation\n",
    "\n",
    "C. Polymorphism\n",
    "\n",
    "D. Abstraction\n",
    "\n",
    "\n",
    "[Back to top](#top)"
   ]
  },
  {
   "cell_type": "markdown",
   "metadata": {},
   "source": [
    "<a id=\"decorators\"></a>\n",
    "# 6. Decorators\n",
    "\n",
    "A **decorator** is a function that wraps another function to modify or enhance its behavior, applied with the `@decorator_name` syntax above the function definition. Decorators are ideal for adding reusable functionality—like timing, logging, or input validation—across multiple functions without cluttering their core logic."
   ]
  },
  {
   "cell_type": "code",
   "execution_count": 10,
   "metadata": {},
   "outputs": [
    {
     "name": "stdout",
     "output_type": "stream",
     "text": [
      "Function 'compute_sum' took 0.0561 seconds\n",
      "Result = 499999500000\n",
      "Function 'say_hello' took 0.0000 seconds\n",
      "Hello, Alice!\n"
     ]
    }
   ],
   "source": [
    "def timer(func):\n",
    "    \"\"\"A decorator that measures and reports execution time of 'func'.\"\"\"\n",
    "    def wrapper(*args, **kwargs):\n",
    "        start = time.time()\n",
    "        result = func(*args, **kwargs)\n",
    "        end = time.time()\n",
    "        print(f\"Function '{func.__name__}' took {end - start:.4f} seconds\")\n",
    "        return result\n",
    "    return wrapper\n",
    "\n",
    "@timer\n",
    "def compute_sum(n):\n",
    "    total = 0\n",
    "    for i in range(n):\n",
    "        total += i\n",
    "    return total\n",
    "\n",
    "res = compute_sum(1000000)\n",
    "print(\"Result =\", res)\n",
    "\n",
    "# Additional example: Applying to a simple function\n",
    "@timer\n",
    "def say_hello(name):\n",
    "    return f\"Hello, {name}!\"\n",
    "\n",
    "print(say_hello(\"Alice\"))"
   ]
  },
  {
   "cell_type": "markdown",
   "metadata": {},
   "source": [
    "## **Quiz 5** ([Answer](#answer-5))\n",
    "\n",
    "In Python, which symbol is used to apply a decorator like `@timer` above a function?\n",
    "\n",
    "Options:\n",
    "\n",
    "A. `@`\n",
    "\n",
    "B. `#`\n",
    "\n",
    "C. `def`\n",
    "\n",
    "D. `*`\n",
    "\n",
    "\n",
    "[Back to top](#top)"
   ]
  },
  {
   "cell_type": "markdown",
   "metadata": {},
   "source": [
    "<a id=\"context\"></a>\n",
    "# 7. Context Managers\n",
    "\n",
    "A **context manager** ensures setup and cleanup around a block of code, typically used with the `with` statement. It’s perfect for resource management—think files, locks, or database connections—guaranteeing cleanup (like closing a file) even if errors occur. The `with` syntax simplifies this over manual try/finally blocks."
   ]
  },
  {
   "cell_type": "code",
   "execution_count": 11,
   "metadata": {},
   "outputs": [
    {
     "name": "stdout",
     "output_type": "stream",
     "text": [
      "File content:\n",
      " Some text data\n",
      "Another line\n"
     ]
    }
   ],
   "source": [
    "# Writing and reading a file using context managers\n",
    "data = \"Some text data\\nAnother line\"\n",
    "with open(\"example.txt\", \"w\") as f:\n",
    "    f.write(data)\n",
    "\n",
    "with open(\"example.txt\", \"r\") as f:\n",
    "    content = f.read()\n",
    "    print(\"File content:\\n\", content)"
   ]
  },
  {
   "cell_type": "markdown",
   "metadata": {},
   "source": [
    "## **Quiz 6** ([Answer](#answer-6))\n",
    "\n",
    "Why use `with open('data.txt', 'r') as f:` instead of `f = open('data.txt', 'r')`?\n",
    "\n",
    "Options:\n",
    "\n",
    "A. It automatically closes the file, even if errors occur.\n",
    "\n",
    "B. It’s the only way to read files in Python.\n",
    "\n",
    "C. It reads the file much faster.\n",
    "\n",
    "D. No specific reason.\n",
    "\n",
    "\n",
    "[Back to top](#top)"
   ]
  },
  {
   "cell_type": "markdown",
   "metadata": {},
   "source": [
    "<a id=\"type-hints\"></a>\n",
    "# 8. Python Type Hints\n",
    "\n",
    "Type hints are **optional annotations** (e.g., `x: int`, `def foo(arg: str) -> int`) that specify expected types for variables, function arguments, and return values. Introduced in Python 3.5+, they’re used by static type checkers like `mypy` or IDEs (e.g., PyCharm, VS Code) to catch type mismatches before runtime. However, Python itself **ignores them during execution** because it’s dynamically typed—type hints are documentation, not enforcement.\n",
    "\n",
    "This means passing a value of the 'wrong' type won’t raise a type error automatically; errors only occur if the code’s logic fails (e.g., calling a method that doesn’t exist on the passed type). This section shows both correct usage and a deliberate misuse to illustrate this behavior."
   ]
  },
  {
   "cell_type": "code",
   "execution_count": 20,
   "metadata": {},
   "outputs": [
    {
     "name": "stdout",
     "output_type": "stream",
     "text": [
      "deep-learning\n",
      "Runtime error: 'int' object has no attribute 'join'\n",
      "7\n",
      "8.0\n"
     ]
    }
   ],
   "source": [
    "from typing import List\n",
    "\n",
    "def concatenate(words: List[str], sep: str = \" \") -> str:\n",
    "    \"\"\"Join a list of strings with a separator, returning a single string.\n",
    "    \n",
    "    Args:\n",
    "        words: A list of strings to join.\n",
    "        sep: A string to insert between elements (default is a space).\n",
    "    Returns:\n",
    "        A single string with elements joined by 'sep'.\n",
    "    \"\"\"\n",
    "    return sep.join(words)\n",
    "\n",
    "# Correct usage: Both arguments match their type hints\n",
    "print(concatenate([\"deep\", \"learning\"], sep=\"-\"))  # Output: 'deep-learning'\n",
    "\n",
    "# Incorrect usage: Passing an int for 'sep' violates the hint\n",
    "# Type hints don’t stop this at runtime; it fails because int has no 'join' method\n",
    "try:\n",
    "    bad = concatenate([\"number\", \"one\"], sep=5)\n",
    "    print(\"Result with wrong type:\", bad)\n",
    "except AttributeError as e:\n",
    "    print(f\"Runtime error: {e}\")  # Output: 'int' object has no attribute 'join'\n",
    "\n",
    "# Another example: Type hint ignored, but logic still works\n",
    "def add(a: int, b: int) -> int:\n",
    "    return a + b\n",
    "\n",
    "print(add(3, 4))      # Works fine: 7\n",
    "print(add(3.5, 4.5))  # Hint says int, but floats work too: 8.0"
   ]
  },
  {
   "cell_type": "markdown",
   "metadata": {},
   "source": [
    "## **Quiz 7** ([Answer](#answer-7))\n",
    "\n",
    "True or False: *Python will raise a runtime error if you pass a value of the wrong type to a function that has type hints.*\n",
    "\n",
    "Options:\n",
    "\n",
    "A. True\n",
    "\n",
    "B. False\n",
    "\n",
    "\n",
    "[Back to top](#top)"
   ]
  },
  {
   "cell_type": "markdown",
   "metadata": {},
   "source": [
    "<a id=\"efficient-iteration\"></a>\n",
    "# 9. Efficient Iteration (Generators, itertools, Batching)\n",
    "\n",
    "When working with large or infinite datasets, **generators** save memory by yielding items one at a time instead of storing everything in a list. The `itertools` module (not fully explored here) offers additional tools like `cycle`, `chain`, or `combinations`. This section focuses on generators and a common use case: batching data, as seen in machine learning training loops."
   ]
  },
  {
   "cell_type": "code",
   "execution_count": 14,
   "metadata": {},
   "outputs": [
    {
     "name": "stdout",
     "output_type": "stream",
     "text": [
      "Generator created: <generator object count_up_to at 0x0000014AF1AB7C80>\n",
      "First value: 1\n",
      "Remaining values:\n",
      "2\n",
      "3\n",
      "4\n",
      "5\n"
     ]
    }
   ],
   "source": [
    "def count_up_to(n):\n",
    "    \"\"\"Yield numbers from 1 to n, one at a time.\"\"\"\n",
    "    i = 1\n",
    "    while i <= n:\n",
    "        yield i\n",
    "        i += 1\n",
    "\n",
    "gen = count_up_to(5)\n",
    "print(\"Generator created:\", gen)  # Shows it’s a generator object\n",
    "print(\"First value:\", next(gen))  # Get the first item\n",
    "print(\"Remaining values:\")\n",
    "for num in gen:  # Iterate over the rest\n",
    "    print(num)"
   ]
  },
  {
   "cell_type": "markdown",
   "metadata": {},
   "source": [
    "### Batching Example\n",
    "\n",
    "Batching splits data into chunks, a technique used in mini-batch training for efficiency. The generator below yields slices of a list based on a batch size."
   ]
  },
  {
   "cell_type": "code",
   "execution_count": 15,
   "metadata": {},
   "outputs": [
    {
     "name": "stdout",
     "output_type": "stream",
     "text": [
      "[1, 2, 3, 4]\n",
      "[5, 6, 7, 8]\n",
      "[9, 10]\n"
     ]
    }
   ],
   "source": [
    "def batchify(data, batch_size):\n",
    "    \"\"\"Yield successive 'batch_size' chunks from 'data'.\"\"\"\n",
    "    for i in range(0, len(data), batch_size):\n",
    "        yield data[i:i + batch_size]\n",
    "\n",
    "dataset = list(range(1, 11))\n",
    "for batch in batchify(dataset, 4):\n",
    "    print(batch)"
   ]
  },
  {
   "cell_type": "markdown",
   "metadata": {},
   "source": [
    "## **Quiz 8** ([Answer](#answer-8))\n",
    "\n",
    "What **keyword** inside a function makes it a generator?\n",
    "\n",
    "Options:\n",
    "\n",
    "A. yield\n",
    "\n",
    "B. return\n",
    "\n",
    "C. async\n",
    "\n",
    "D. gen\n",
    "\n",
    "\n",
    "[Back to top](#top)"
   ]
  },
  {
   "cell_type": "markdown",
   "metadata": {},
   "source": [
    "<a id=\"error-handling\"></a>\n",
    "# 10. Error Handling (try/except)\n",
    "\n",
    "Error handling with `try/except` lets your code recover from runtime issues gracefully, while `raise` lets you signal problems explicitly. Key components:\n",
    "\n",
    "- **`try: ... except SomeError:`**: Catch specific exceptions like `ZeroDivisionError`.\n",
    "- **`else:`**: Runs if no exception occurs, separating success logic.\n",
    "- **`finally:`**: Always executes, useful for cleanup.\n",
    "- **`raise`**: Throw custom exceptions for invalid states.\n",
    "\n",
    "This is critical for robust programs, especially when dealing with user input or external resources."
   ]
  },
  {
   "cell_type": "code",
   "execution_count": 16,
   "metadata": {},
   "outputs": [
    {
     "name": "stdout",
     "output_type": "stream",
     "text": [
      "Division succeeded.\n",
      "Execution of safe_divide complete.\n",
      "5.0\n",
      "---\n",
      "Error: cannot divide by zero!\n",
      "Execution of safe_divide complete.\n",
      "None\n"
     ]
    }
   ],
   "source": [
    "def safe_divide(a, b):\n",
    "    try:\n",
    "        result = a / b\n",
    "    except ZeroDivisionError:\n",
    "        print(\"Error: cannot divide by zero!\")\n",
    "        result = None\n",
    "    else:\n",
    "        print(\"Division succeeded.\")\n",
    "    finally:\n",
    "        print(\"Execution of safe_divide complete.\")\n",
    "    return result\n",
    "\n",
    "print(safe_divide(10, 2))\n",
    "print(\"---\")\n",
    "print(safe_divide(5, 0))"
   ]
  },
  {
   "cell_type": "code",
   "execution_count": 17,
   "metadata": {},
   "outputs": [
    {
     "name": "stdout",
     "output_type": "stream",
     "text": [
      "Learning rate set to 0.01\n",
      "Caught exception: Learning rate must be positive, got 0\n"
     ]
    }
   ],
   "source": [
    "def set_learning_rate(lr):\n",
    "    if lr <= 0:\n",
    "        raise ValueError(f\"Learning rate must be positive, got {lr}\")\n",
    "    print(f\"Learning rate set to {lr}\")\n",
    "\n",
    "set_learning_rate(0.01)\n",
    "try:\n",
    "    set_learning_rate(0)\n",
    "except ValueError as e:\n",
    "    print(\"Caught exception:\", e)"
   ]
  },
  {
   "cell_type": "markdown",
   "metadata": {},
   "source": [
    "## **Quiz 9** ([Answer](#answer-9))\n",
    "\n",
    "Which snippet catches a **missing file** error?\n",
    "\n",
    "Options:\n",
    "\n",
    "A.\n",
    "\n",
    "try:\n",
    "\n",
    "    f = open('data.txt')\n",
    "\n",
    "except FileNotFoundError:\n",
    "\n",
    "    print('File missing')\n",
    "\n",
    "\n",
    "B.\n",
    "\n",
    "try:\n",
    "\n",
    "    f = open('data.txt')\n",
    "\n",
    "except KeyError:\n",
    "\n",
    "    print('File missing')\n",
    "\n",
    "\n",
    "C.\n",
    "\n",
    "try:\n",
    "\n",
    "    f = open('data.txt')\n",
    "\n",
    "except ZeroDivisionError:\n",
    "\n",
    "    print('File missing')\n",
    "\n",
    "\n",
    "[Back to top](#top)"
   ]
  },
  {
   "cell_type": "markdown",
   "metadata": {},
   "source": [
    "<a id=\"string-formatting\"></a>\n",
    "# 11. Advanced String Formatting (f-strings)\n",
    "\n",
    "Introduced in Python 3.6, **f-strings** (`f\"text {variable}\"`) are a concise, readable way to embed expressions in strings. They support:\n",
    "\n",
    "- **Format specifiers**: Control precision (e.g., `{x:.2f}` for 2 decimals).\n",
    "- **Padding/alignment**: Zero-pad numbers (e.g., `{n:03d}`) or align text.\n",
    "- **Expressions**: Compute values inline (e.g., `{x * 2}`).\n",
    "\n",
    "F-strings are widely used for logging, reporting, or formatting outputs in a consistent style."
   ]
  },
  {
   "cell_type": "code",
   "execution_count": null,
   "metadata": {},
   "outputs": [],
   "source": [
    "epoch = 5\n",
    "loss = 0.123456\n",
    "print(f\"Epoch {epoch} - Loss: {loss}\")\n",
    "\n",
    "value = 7.56789\n",
    "print(f\"value = {value}\")\n",
    "print(f\"value to 2 decimal places = {value:.2f}\")\n",
    "print(f\"value in scientific notation = {value:.1e}\")\n",
    "\n",
    "num = 42\n",
    "print(f\"number padded (width 5) = {num:05d}\")\n",
    "\n",
    "for e in range(1, 4):\n",
    "    train_loss = 0.1 * e\n",
    "    print(f\"[Epoch {e:02d}] Loss = {train_loss:.3f}\")"
   ]
  },
  {
   "cell_type": "markdown",
   "metadata": {},
   "source": [
    "## **Quiz 10** ([Answer](#answer-10))\n",
    "\n",
    "What does the following code print?\n",
    "```python\n",
    "value = 5\n",
    "print(f\"Value = {value:03d}\")\n",
    "```\n",
    "Options:\n",
    "\n",
    "A. `Value = 005`\n",
    "\n",
    "B. `Value = 5  `\n",
    "\n",
    "C. `Value = 0005`\n",
    "\n",
    "D. `Value = 05`\n",
    "\n",
    "## **Quiz 11** ([Answer](#answer-11))\n",
    "\n",
    "What will `print(f'Loss: {0.456:.1f}')` output?\n",
    "\n",
    "Options:\n",
    "\n",
    "A. `Loss: 0.5`\n",
    "\n",
    "B. `Loss: 0.46`\n",
    "\n",
    "C. `Loss: 0.4`\n",
    "\n",
    "D. `Loss: 0.456`\n",
    "\n",
    "\n",
    "[Back to top](#top)"
   ]
  },
  {
   "cell_type": "markdown",
   "metadata": {},
   "source": [
    "<a id=\"conclusion\"></a>\n",
    "# 12. Conclusion\n",
    "\n",
    "This notebook has broadened your Python toolkit with concepts like:\n",
    "- Advanced List Comprehensions for data transformation\n",
    "- NumPy Array Operations for numerical efficiency\n",
    "- Functional Programming (map, filter, reduce) for declarative coding\n",
    "- OOP Basics for structured design\n",
    "- Decorators for reusable enhancements\n",
    "- Context Managers for resource safety\n",
    "- Type Hints for code clarity\n",
    "- Generators and Batching for memory-efficient iteration\n",
    "- Error Handling for robustness\n",
    "- Advanced String Formatting for polished outputs\n",
    "\n",
    "These skills are stepping stones to mastering Python in data science, scripting, or even machine learning prep work. Keep this reference handy alongside the [original shorter guide](https://github.com/gamesbyjames/spanish-flash/blob/main/zero_to_hero_python_reference.ipynb) as you encounter these patterns in the wild!\n",
    "\n",
    "[Back to top](#top)"
   ]
  },
  {
   "cell_type": "markdown",
   "metadata": {},
   "source": [
    "<a id=\"answers\"></a>\n",
    "# 13. Answers\n",
    "\n",
    "## <a id=\"answer-1\"></a>Answer to Quiz 1 ([Back](#list-comprehensions))\n",
    "Correct: **A. `[2, 6, 10]`** – The comprehension doubles only odd numbers (1, 3, 5) from the matrix due to the `if y % 2 == 1` filter.\n",
    "\n",
    "## <a id=\"answer-2\"></a>Answer to Quiz 2 ([Back](#numpy))\n",
    "Correct: **A. `(5, 4)`** – Broadcasting extends `v` (shape `(4,)`) across each row of `X` (shape `(5, 4)`), keeping the result `(5, 4)`.\n",
    "\n",
    "## <a id=\"answer-3\"></a>Answer to Quiz 3 ([Back](#functional))\n",
    "Correct: **A. `[x + 1 for x in [1, 2, 3]]`** – This comprehension matches the `map` operation, adding 1 to each element.\n",
    "\n",
    "## <a id=\"answer-4\"></a>Answer to Quiz 4 ([Back](#oop))\n",
    "Correct: **C. Polymorphism** – Different classes provide unique `speak()` implementations under the same method name.\n",
    "\n",
    "## <a id=\"answer-5\"></a>Answer to Quiz 5 ([Back](#decorators))\n",
    "Correct: **A. `@`** – The `@` symbol applies a decorator to a function.\n",
    "\n",
    "## <a id=\"answer-6\"></a>Answer to Quiz 6 ([Back](#context))\n",
    "Correct: **A. It automatically closes the file, even if errors occur.** – The `with` statement ensures proper resource cleanup.\n",
    "\n",
    "## <a id=\"answer-7\"></a>Answer to Quiz 7 ([Back](#type-hints))\n",
    "Correct: **B. False** – Type hints are for tools, not runtime enforcement.\n",
    "\n",
    "## <a id=\"answer-8\"></a>Answer to Quiz 8 ([Back](#efficient-iteration))\n",
    "Correct: **A. yield** – `yield` turns a function into a generator.\n",
    "\n",
    "## <a id=\"answer-9\"></a>Answer to Quiz 9 ([Back](#error-handling))\n",
    "Correct: **A** – `FileNotFoundError` is the exception for missing files.\n",
    "\n",
    "## <a id=\"answer-10\"></a>Answer to Quiz 10 ([Back](#string-formatting))\n",
    "Correct: **A. `Value = 005`** – `:03d` pads `5` to three digits with zeros.\n",
    "\n",
    "## <a id=\"answer-11\"></a>Answer to Quiz 11 ([Back](#string-formatting))\n",
    "Correct: **C. `Loss: 0.4`** – `.1f` rounds 0.456 to one decimal place, giving 0.4.\n",
    "\n",
    "[Back to top](#top)"
   ]
  }
 ],
 "metadata": {
  "kernelspec": {
   "display_name": "Python 3",
   "language": "python",
   "name": "python3"
  },
  "language_info": {
   "codemirror_mode": {
    "name": "ipython",
    "version": 3
   },
   "file_extension": ".py",
   "mimetype": "text/x-python",
   "name": "python",
   "nbconvert_exporter": "python",
   "pygments_lexer": "ipython3",
   "version": "3.8.3"
  }
 },
 "nbformat": 4,
 "nbformat_minor": 5
}
