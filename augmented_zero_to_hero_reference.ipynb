{
 "cells": [
  {
   "cell_type": "markdown",
   "metadata": {},
   "source": [
    "# Augmented Python Reference\n",
    "\n",
    "This notebook **expands on** the [original shorter reference material](https://gamesbyjames.github.io/learn_python_with_andrej_karpathy/ak_zero_to_hero_python_reference.html). It provides **additional** Python concepts at a beginner-to-intermediate level\n",
    "\n",
    "\n",
    "All code is pure Python + NumPy (no deep learning frameworks). **Run each cell** to see outputs. **Quizzes** are provided with line-separated multiple-choice options. An **Answer** section at the bottom references each quiz."
   ]
  },
  {
   "cell_type": "markdown",
   "metadata": {},
   "source": [
    "## Table of Contents\n",
    "1. [Setup (Imports)](#setup)\n",
    "2. [Advanced List Operations & Comprehensions](#list-comprehensions)\n",
    "3. [NumPy Array Operations](#numpy)\n",
    "4. [Functional Programming (map, filter, reduce, lambdas)](#functional)\n",
    "5. [Object-Oriented Programming (OOP)](#oop)\n",
    "6. [Decorators](#decorators)\n",
    "7. [Context Managers](#context)\n",
    "8. [Python Type Hints](#type-hints)\n",
    "9. [Efficient Iteration (Generators, itertools, Batching)](#efficient-iteration)\n",
    "10. [Error Handling (try/except)](#error-handling)\n",
    "11. [Advanced String Formatting (f-strings)](#string-formatting)\n",
    "12. [Conclusion](#conclusion)\n",
    "13. [Answers](#answers)\n"
   ]
  },
  {
   "cell_type": "markdown",
   "metadata": {},
   "source": [
    "<a id=\"setup\"></a>\n",
    "# 1. Setup (Imports)\n",
    "\n",
    "Make sure you have the following installed:\n",
    "- `numpy`\n",
    "\n",
    "Then import them here:"
   ]
  },
  {
   "cell_type": "code",
   "execution_count": null,
   "metadata": {},
   "outputs": [],
   "source": [
    "import numpy as np\n",
    "from functools import reduce\n",
    "import time\n",
    "from typing import List\n",
    "print(\"Imports complete.\")"
   ]
  },
  {
   "cell_type": "markdown",
   "metadata": {},
   "source": [
    "<a id=\"list-comprehensions\"></a>\n",
    "# 2. Advanced List Operations & Comprehensions\n",
    "\n",
    "You may know basic list comprehensions (e.g., `[x+1 for x in some_list]`). Below are some **advanced** or **less common** uses:\n",
    "- Nested list comprehensions\n",
    "- Using `zip` to combine lists in parallel\n",
    "- \"Unzipping\" data with `zip(*list_of_pairs)`\n",
    "\n",
    "These patterns are often used in data preprocessing and batch creation in machine learning code (though we’re not using any deep learning library here)."
   ]
  },
  {
   "cell_type": "code",
   "execution_count": null,
   "metadata": {},
   "outputs": [],
   "source": [
    "# Example: Nested list comprehension to flatten a 2D list\n",
    "# 'matrix' is a list of lists. We want to collect all elements into a single list.\n",
    "matrix = [[1, 2, 3], [4, 5, 6]]\n",
    "flattened = [y for x in matrix for y in x]\n",
    "print(\"Original matrix:\", matrix)\n",
    "print(\"Flattened list:\", flattened)"
   ]
  },
  {
   "cell_type": "markdown",
   "metadata": {},
   "source": [
    "**Parallel Iteration with `zip`**\n",
    "You can **zip** two (or more) lists to iterate over them in parallel. This returns pairs (tuples) of corresponding elements."
   ]
  },
  {
   "cell_type": "code",
   "execution_count": null,
   "metadata": {},
   "outputs": [],
   "source": [
    "list1 = [1, 2, 3]\n",
    "list2 = [10, 20, 30]\n",
    "\n",
    "paired = list(zip(list1, list2))\n",
    "print(\"Zipped pairs:\", paired)\n",
    "\n",
    "sum_list = [a + b for (a, b) in zip(list1, list2)]\n",
    "print(\"Element-wise sums:\", sum_list)\n",
    "\n",
    "# 'Unzipping' with zip(*...) splits paired data back:\n",
    "nums, tens = zip(*paired)\n",
    "print(\"Unzipped nums:\", nums)\n",
    "print(\"Unzipped tens:\", tens)"
   ]
  },
  {
   "cell_type": "markdown",
   "metadata": {},
   "source": [
    "## **Quiz 1** ([Answer](#answer-1))\n",
    "\n",
    "What will be the result of this code?\n",
    "```python\n",
    "matrix = [[1, 2], [3, 4], [5, 6]]\n",
    "result = [y*2 for x in matrix for y in x if y % 2 == 1]\n",
    "print(result)\n",
    "```\n",
    "Options:\n",
    "\n",
    "A. `[2, 6, 10]`\n",
    "\n",
    "B. `[2, 4, 6, 8, 10, 12]`\n",
    "\n",
    "C. `[2, 6, 10, 12]`\n",
    "\n",
    "\n",
    "[Back to top](#top)"
   ]
  },
  {
   "cell_type": "markdown",
   "metadata": {},
   "source": [
    "<a id=\"numpy\"></a>\n",
    "# 3. NumPy Array Operations\n",
    "\n",
    "NumPy is central to numerical computing in Python. Key features:\n",
    "\n",
    "- **Array creation** (`np.array`, `np.zeros`, `np.ones`, etc.)\n",
    "- **Broadcasting** (automatic expansion of dimensions for arithmetic)\n",
    "- **Slicing/Indexing** (similar to Python lists, but extended to multiple dimensions)\n",
    "- **Reshaping** (change shape without changing data)\n",
    "- **Element-wise math** (e.g., `np.sin`, `a + b`, `a * b`, etc.)"
   ]
  },
  {
   "cell_type": "code",
   "execution_count": null,
   "metadata": {},
   "outputs": [],
   "source": [
    "# Broadcasting example\n",
    "a = np.array([[1, 2, 3],\n",
    "              [4, 5, 6]])\n",
    "b = np.array([10, 20, 30])\n",
    "print(\"Array a:\\n\", a)\n",
    "print(\"\\nArray b:\", b)\n",
    "print(\"\\nBroadcasted a + b:\\n\", a + b)"
   ]
  },
  {
   "cell_type": "code",
   "execution_count": null,
   "metadata": {},
   "outputs": [],
   "source": [
    "# Slicing and reshaping\n",
    "subarray = a[:, :2]\n",
    "print(\"First two columns of a:\\n\", subarray)\n",
    "\n",
    "reshaped = a.reshape(3, 2)\n",
    "print(\"\\nReshaped a to 3x2:\\n\", reshaped)\n",
    "\n",
    "flattened = a.reshape(-1)\n",
    "print(\"\\nFlattened a:\\n\", flattened)"
   ]
  },
  {
   "cell_type": "code",
   "execution_count": null,
   "metadata": {},
   "outputs": [],
   "source": [
    "print(\"Element-wise multiplication (a * 2):\\n\", a * 2)\n",
    "print(\"Element-wise squaring (a ** 2):\\n\", a ** 2)\n",
    "print(\"Element-wise sine (np.sin(a)):\\n\", np.sin(a))\n",
    "\n",
    "# Another broadcasting example\n",
    "factors = np.array([[2], [3]])  # shape (2,1)\n",
    "scaled_rows = a * factors\n",
    "print(\"\\nScaled rows (broadcasted multiplication):\\n\", scaled_rows)"
   ]
  },
  {
   "cell_type": "markdown",
   "metadata": {},
   "source": [
    "## **Quiz 2** ([Answer](#answer-2))\n",
    "\n",
    "Suppose `X` is shape `(5,4)` and `v` is shape `(4,)`. If we do `Y = X + v`, what is `Y.shape` due to broadcasting?\n",
    "\n",
    "Options:\n",
    "\n",
    "A. `(5, 4)`\n",
    "\n",
    "B. `(4, 5)`\n",
    "\n",
    "C. `(5, 4, 4)`\n",
    "\n",
    "D. Broadcasting is not possible.\n",
    "\n",
    "\n",
    "[Back to top](#top)"
   ]
  },
  {
   "cell_type": "markdown",
   "metadata": {},
   "source": [
    "<a id=\"functional\"></a>\n",
    "# 4. Functional Programming (map, filter, reduce, lambdas)\n",
    "\n",
    "Besides **list comprehensions**, Python offers `map`, `filter`, and `reduce` for a functional style:\n",
    "\n",
    "- **map(func, iterable)**: applies `func` to each element, returning an iterator of results.\n",
    "- **filter(func, iterable)**: keeps elements where `func(elem)` is True.\n",
    "- **reduce(func, iterable)**: repeatedly applies `func` to combine elements into a single value. (In `functools`.)\n",
    "- **lambda**: an inline (anonymous) function, used for quick transformations."
   ]
  },
  {
   "cell_type": "code",
   "execution_count": null,
   "metadata": {},
   "outputs": [],
   "source": [
    "nums = [1, 2, 3, 4, 5]\n",
    "\n",
    "squares = list(map(lambda x: x**2, nums))\n",
    "print(\"Squares:\", squares)\n",
    "\n",
    "evens = list(filter(lambda x: x % 2 == 0, nums))\n",
    "print(\"Evens:\", evens)\n",
    "\n",
    "product = reduce(lambda a, b: a * b, nums)\n",
    "print(\"Product of all:\", product)"
   ]
  },
  {
   "cell_type": "markdown",
   "metadata": {},
   "source": [
    "## **Quiz 3** ([Answer](#answer-3))\n",
    "\n",
    "Which snippet **also** produces `[2, 3, 4]` (the same result as `list(map(lambda x: x+1, [1, 2, 3]))`)?\n",
    "\n",
    "Options:\n",
    "\n",
    "A. `[x + 1 for x in [1, 2, 3]]`\n",
    "\n",
    "B. `list(filter(lambda x: x+1, [1, 2, 3]))`\n",
    "\n",
    "C. `for x in [1, 2, 3]: x+1`\n",
    "\n",
    "\n",
    "[Back to top](#top)"
   ]
  },
  {
   "cell_type": "markdown",
   "metadata": {},
   "source": [
    "<a id=\"oop\"></a>\n",
    "# 5. Object-Oriented Programming (OOP)\n",
    "\n",
    "Classes let you bundle data (attributes) and functionality (methods) together. Key OOP ideas:\n",
    "- **Inheritance**: a subclass extends a base class.\n",
    "- **Encapsulation**: grouping code/data (Python doesn't enforce strict privacy, but underscores `_var` are used by convention).\n",
    "- **Polymorphism**: calling the same method on different classes yields class-specific behavior."
   ]
  },
  {
   "cell_type": "code",
   "execution_count": null,
   "metadata": {},
   "outputs": [],
   "source": [
    "class Animal:\n",
    "    def __init__(self, name):\n",
    "        self.name = name\n",
    "        self._energy = 100\n",
    "\n",
    "    def speak(self):\n",
    "        print(f\"{self.name} makes a noise.\")\n",
    "\n",
    "    def info(self):\n",
    "        print(f\"{self.name} has energy {self._energy}.\")\n",
    "\n",
    "class Dog(Animal):\n",
    "    def speak(self):\n",
    "        print(f\"{self.name} says: Woof!\")\n",
    "\n",
    "class Cat(Animal):\n",
    "    def speak(self):\n",
    "        print(f\"{self.name} says: Meow!\")\n",
    "\n",
    "animals = [Dog(\"Buddy\"), Cat(\"Whiskers\"), Animal(\"Generic\")]  # Polymorphism example\n",
    "for a in animals:\n",
    "    a.speak()\n",
    "\n",
    "animals[0].info()"
   ]
  },
  {
   "cell_type": "markdown",
   "metadata": {},
   "source": [
    "## **Quiz 4** ([Answer](#answer-4))\n",
    "\n",
    "When two subclasses (like `Dog` and `Cat`) each **override** `speak()`, and you call `animal.speak()`, it runs the class-specific method. This is called _____.\n",
    "\n",
    "Options:\n",
    "\n",
    "A. Inheritance\n",
    "\n",
    "B. Encapsulation\n",
    "\n",
    "C. Polymorphism\n",
    "\n",
    "D. Abstraction\n",
    "\n",
    "\n",
    "[Back to top](#top)"
   ]
  },
  {
   "cell_type": "markdown",
   "metadata": {},
   "source": [
    "<a id=\"decorators\"></a>\n",
    "# 6. Decorators\n",
    "\n",
    "A **decorator** is a function that takes another function and returns a wrapped version. Decorators are denoted by `@decorator_name` above a function definition and can add cross-cutting behavior like logging, timing, or caching."
   ]
  },
  {
   "cell_type": "code",
   "execution_count": null,
   "metadata": {},
   "outputs": [],
   "source": [
    "def timer(func):\n",
    "    \"\"\"A decorator that reports how long 'func' takes to run.\"\"\"\n",
    "    def wrapper(*args, **kwargs):\n",
    "        start = time.time()\n",
    "        result = func(*args, **kwargs)\n",
    "        end = time.time()\n",
    "        print(f\"Function '{func.__name__}' took {end - start:.4f} seconds\")\n",
    "        return result\n",
    "    return wrapper\n",
    "\n",
    "@timer\n",
    "def compute_sum(n):\n",
    "    total = 0\n",
    "    for i in range(n):\n",
    "        total += i\n",
    "    return total\n",
    "\n",
    "res = compute_sum(1000000)\n",
    "print(\"Result =\", res)"
   ]
  },
  {
   "cell_type": "markdown",
   "metadata": {},
   "source": [
    "## **Quiz 5** ([Answer](#answer-5))\n",
    "\n",
    "In Python, which symbol is used to apply a decorator like `@timer` above a function?\n",
    "\n",
    "Options:\n",
    "\n",
    "A. `@`\n",
    "\n",
    "B. `#`\n",
    "\n",
    "C. `def`\n",
    "\n",
    "D. `*`\n",
    "\n",
    "\n",
    "[Back to top](#top)"
   ]
  },
  {
   "cell_type": "markdown",
   "metadata": {},
   "source": [
    "<a id=\"context\"></a>\n",
    "# 7. Context Managers\n",
    "\n",
    "A **context manager** in Python is an object that sets something up when entering a `with` block and tears it down when exiting, even if an exception occurs. Classic examples:\n",
    "\n",
    "- `with open('somefile.txt') as f:` ensures the file is closed.\n",
    "- Custom context managers can handle locks, transactions, etc."
   ]
  },
  {
   "cell_type": "code",
   "execution_count": null,
   "metadata": {},
   "outputs": [],
   "source": [
    "data = \"Some text data\\nAnother line\"\n",
    "with open(\"example.txt\", \"w\") as f:\n",
    "    f.write(data)\n",
    "\n",
    "with open(\"example.txt\", \"r\") as f:\n",
    "    content = f.read()\n",
    "    print(\"File content:\\n\", content)"
   ]
  },
  {
   "cell_type": "markdown",
   "metadata": {},
   "source": [
    "## **Quiz 6** ([Answer](#answer-6))\n",
    "\n",
    "Why use `with open('data.txt', 'r') as f:` instead of `f = open('data.txt', 'r')`?\n",
    "\n",
    "Options:\n",
    "\n",
    "A. It automatically closes the file, even if errors occur.\n",
    "\n",
    "B. It's the only way to read files in Python.\n",
    "\n",
    "C. It reads the file much faster.\n",
    "\n",
    "D. No specific reason.\n",
    "\n",
    "\n",
    "[Back to top](#top)"
   ]
  },
  {
   "cell_type": "markdown",
   "metadata": {},
   "source": [
    "<a id=\"type-hints\"></a>\n",
    "# 8. Python Type Hints\n",
    "\n",
    "Type hints are **optional** annotations that help static checkers (like mypy) and your IDE to catch mismatches, but Python itself **doesn’t** enforce them at runtime."
   ]
  },
  {
   "cell_type": "code",
   "execution_count": null,
   "metadata": {},
   "outputs": [],
   "source": [
    "def concatenate(words: List[str], sep: str = \" \") -> str:\n",
    "    \"\"\"Join a list of strings with a separator, returning a single string.\"\"\"\n",
    "    return sep.join(words)\n",
    "\n",
    "# Correct usage\n",
    "print(concatenate([\"deep\", \"learning\"], sep=\"-\"))\n",
    "\n",
    "# This is logically incorrect, but Python won't stop us at runtime:\n",
    "# The function expects sep to be a string, but we pass an int.\n",
    "bad = concatenate([\"number\", \"one\"], sep=5)\n",
    "print(\"Result with wrong type:\", bad)  # Raises an error only at runtime"
   ]
  },
  {
   "cell_type": "markdown",
   "metadata": {},
   "source": [
    "## **Quiz 7** ([Answer](#answer-7))\n",
    "\n",
    "True or False: *Python will raise a runtime error if you pass a value of the wrong type to a function that has type hints.*\n",
    "\n",
    "Options:\n",
    "\n",
    "A. True\n",
    "\n",
    "B. False\n",
    "\n",
    "\n",
    "[Back to top](#top)"
   ]
  },
  {
   "cell_type": "markdown",
   "metadata": {},
   "source": [
    "<a id=\"efficient-iteration\"></a>\n",
    "# 9. Efficient Iteration (Generators, itertools, Batching)\n",
    "\n",
    "For large datasets or infinite streams, **generators** let you yield items one at a time, rather than building an entire list in memory. The `itertools` module provides utility iterators for tasks like grouping, chaining, slicing, etc."
   ]
  },
  {
   "cell_type": "code",
   "execution_count": null,
   "metadata": {},
   "outputs": [],
   "source": [
    "def count_up_to(n):\n",
    "    i = 1\n",
    "    while i <= n:\n",
    "        yield i\n",
    "        i += 1\n",
    "\n",
    "gen = count_up_to(5)\n",
    "print(\"Generator created:\", gen)\n",
    "print(\"First value:\", next(gen))\n",
    "print(\"Remaining values:\")\n",
    "for num in gen:\n",
    "    print(num)"
   ]
  },
  {
   "cell_type": "markdown",
   "metadata": {},
   "source": [
    "### Batching Example\n",
    "You might see code that yields data **batches** of a given size. This is typical in ML for mini-batch training."
   ]
  },
  {
   "cell_type": "code",
   "execution_count": null,
   "metadata": {},
   "outputs": [],
   "source": [
    "def batchify(data, batch_size):\n",
    "    \"\"\"Yield successive 'batch_size' chunks from 'data'.\"\"\"\n",
    "    for i in range(0, len(data), batch_size):\n",
    "        yield data[i:i+batch_size]\n",
    "\n",
    "dataset = list(range(1, 11))\n",
    "for batch in batchify(dataset, 4):\n",
    "    print(batch)"
   ]
  },
  {
   "cell_type": "markdown",
   "metadata": {},
   "source": [
    "## **Quiz 8** ([Answer](#answer-8))\n",
    "\n",
    "What **keyword** inside a function makes it a generator?\n",
    "\n",
    "Options:\n",
    "\n",
    "A. yield\n",
    "\n",
    "B. return\n",
    "\n",
    "C. async\n",
    "\n",
    "D. gen\n",
    "\n",
    "\n",
    "[Back to top](#top)"
   ]
  },
  {
   "cell_type": "markdown",
   "metadata": {},
   "source": [
    "<a id=\"error-handling\"></a>\n",
    "# 10. Error Handling (try/except)\n",
    "\n",
    "We use `try/except` to handle runtime errors gracefully, and `raise` to signal an error ourselves.\n",
    "\n",
    "- `try: ... except SomeError:` catches specific exceptions.\n",
    "- `finally:` runs code whether or not there was an exception.\n",
    "- `raise ValueError('message')` triggers an exception if we detect invalid input."
   ]
  },
  {
   "cell_type": "code",
   "execution_count": null,
   "metadata": {},
   "outputs": [],
   "source": [
    "def safe_divide(a, b):\n",
    "    try:\n",
    "        result = a / b\n",
    "    except ZeroDivisionError:\n",
    "        print(\"Error: cannot divide by zero!\")\n",
    "        result = None\n",
    "    else:\n",
    "        print(\"Division succeeded.\")\n",
    "    finally:\n",
    "        print(\"Execution of safe_divide complete.\")\n",
    "    return result\n",
    "\n",
    "print(safe_divide(10, 2))\n",
    "print(\"---\")\n",
    "print(safe_divide(5, 0))"
   ]
  },
  {
   "cell_type": "code",
   "execution_count": null,
   "metadata": {},
   "outputs": [],
   "source": [
    "def set_learning_rate(lr):\n",
    "    if lr <= 0:\n",
    "        raise ValueError(f\"Learning rate must be positive, got {lr}\")\n",
    "    print(f\"Learning rate set to {lr}\")\n",
    "\n",
    "set_learning_rate(0.01)\n",
    "try:\n",
    "    set_learning_rate(0)\n",
    "except ValueError as e:\n",
    "    print(\"Caught exception:\", e)"
   ]
  },
  {
   "cell_type": "markdown",
   "metadata": {},
   "source": [
    "## **Quiz 9** ([Answer](#answer-9))\n",
    "\n",
    "Which snippet catches a **missing file** error?\n",
    "\n",
    "Options:\n",
    "\n",
    "A.\n",
    "\n",
    "try:\n",
    "\n",
    "    f = open('data.txt')\n",
    "\n",
    "except FileNotFoundError:\n",
    "\n",
    "    print('File missing')\n",
    "\n",
    "\n",
    "B.\n",
    "\n",
    "try:\n",
    "\n",
    "    f = open('data.txt')\n",
    "\n",
    "except KeyError:\n",
    "\n",
    "    print('File missing')\n",
    "\n",
    "\n",
    "C.\n",
    "\n",
    "try:\n",
    "\n",
    "    f = open('data.txt')\n",
    "\n",
    "except ZeroDivisionError:\n",
    "\n",
    "    print('File missing')\n",
    "\n",
    "\n",
    "\n",
    "[Back to top](#top)"
   ]
  },
  {
   "cell_type": "markdown",
   "metadata": {},
   "source": [
    "<a id=\"string-formatting\"></a>\n",
    "# 11. Advanced String Formatting (f-strings)\n",
    "\n",
    "Modern Python uses **f-strings**: `f\"Text {variable} more text\"` for convenience.\n",
    "\n",
    "- Format specifiers: `{value:.2f}` for 2 decimal places.\n",
    "- Alignment or zero-padding: `{num:03d}` zero-pads to width 3.\n",
    "- Great for printing logs with a consistent format."
   ]
  },
  {
   "cell_type": "code",
   "execution_count": null,
   "metadata": {},
   "outputs": [],
   "source": [
    "epoch = 5\n",
    "loss = 0.123456\n",
    "print(f\"Epoch {epoch} - Loss: {loss}\")\n",
    "\n",
    "value = 7.56789\n",
    "print(f\"value = {value}\")\n",
    "print(f\"value to 2 decimal places = {value:.2f}\")\n",
    "print(f\"value in scientific notation = {value:.1e}\")\n",
    "\n",
    "num = 42\n",
    "print(f\"number padded (width 5) = {num:05d}\")\n",
    "\n",
    "for e in range(1, 4):\n",
    "    train_loss = 0.1 * e\n",
    "    print(f\"[Epoch {e:02d}] Loss = {train_loss:.3f}\")"
   ]
  },
  {
   "cell_type": "markdown",
   "metadata": {},
   "source": [
    "## **Quiz 10** ([Answer](#answer-10))\n",
    "\n",
    "What does the following code print?\n",
    "```python\n",
    "value = 5\n",
    "print(f\"Value = {value:03d}\")\n",
    "```\n",
    "Options:\n",
    "\n",
    "A. `Value = 005`\n",
    "\n",
    "B. `Value = 5  `\n",
    "\n",
    "C. `Value = 0005`\n",
    "\n",
    "D. `Value = 05`\n",
    "\n",
    "\n",
    "[Back to top](#top)"
   ]
  },
  {
   "cell_type": "markdown",
   "metadata": {},
   "source": [
    "<a id=\"conclusion\"></a>\n",
    "# 12. Conclusion\n",
    "\n",
    "We’ve expanded your Python knowledge with:\n",
    "- Advanced List Comprehensions\n",
    "- NumPy Array Operations\n",
    "- Functional Programming (map, filter, reduce)\n",
    "- OOP Basics\n",
    "- Decorators\n",
    "- Context Managers\n",
    "- Python Type Hints\n",
    "- Generators, itertools, Batching\n",
    "- Error Handling\n",
    "- Advanced String Formatting\n",
    "\n",
    "These concepts frequently appear in real-world Python code, from data pipelines to production scripts. Refer back here (and to the [original shorter reference](https://github.com/gamesbyjames/spanish-flash/blob/main/zero_to_hero_python_reference.ipynb)) anytime you see these constructs!\n",
    "\n",
    "[Back to top](#top)"
   ]
  },
  {
   "cell_type": "markdown",
   "metadata": {},
   "source": [
    "<a id=\"answers\"></a>\n",
    "# 13. Answers\n",
    "\n",
    "## <a id=\"answer-1\"></a>Answer to Quiz 1 ([Back](#list-comprehensions))\n",
    "Correct: **A. `[2, 6, 10]`** (it doubles only the odd numbers 1,3,5).\n",
    "\n",
    "## <a id=\"answer-2\"></a>Answer to Quiz 2 ([Back](#numpy))\n",
    "Correct: **(5, 4)** – Broadcasting adds the shape `(4,)` to `(5,4)`, resulting in `(5,4)`.\n",
    "\n",
    "## <a id=\"answer-3\"></a>Answer to Quiz 3 ([Back](#functional))\n",
    "Correct: **A. `[x + 1 for x in [1, 2, 3]]`**.\n",
    "\n",
    "## <a id=\"answer-4\"></a>Answer to Quiz 4 ([Back](#oop))\n",
    "Correct: **Polymorphism** – the same method name does different things in each subclass.\n",
    "\n",
    "## <a id=\"answer-5\"></a>Answer to Quiz 5 ([Back](#decorators))\n",
    "Correct: **`@`** – we use the `@decorator_name` syntax.\n",
    "\n",
    "## <a id=\"answer-6\"></a>Answer to Quiz 6 ([Back](#context))\n",
    "Correct: **A. It automatically closes the file, even if errors occur.**\n",
    "\n",
    "## <a id=\"answer-7\"></a>Answer to Quiz 7 ([Back](#type-hints))\n",
    "Correct: **False** – Python does not enforce type hints at runtime.\n",
    "\n",
    "## <a id=\"answer-8\"></a>Answer to Quiz 8 ([Back](#efficient-iteration))\n",
    "Correct: **yield** – that’s what creates a generator.\n",
    "\n",
    "## <a id=\"answer-9\"></a>Answer to Quiz 9 ([Back](#error-handling))\n",
    "Correct: **A** – `FileNotFoundError` catches a missing file.\n",
    "\n",
    "## <a id=\"answer-10\"></a>Answer to Quiz 10 ([Back](#string-formatting))\n",
    "Correct: **A. `Value = 005`** – `:03d` pads to width 3 with zeros.\n",
    "\n",
    "[Back to top](#top)"
   ]
  }
 ],
 "metadata": {
  "kernelspec": {
   "display_name": "Python 3",
   "language": "python",
   "name": "python3"
  },
  "language_info": {
   "codemirror_mode": {
    "name": "ipython",
    "version": 3
   },
   "file_extension": ".py",
   "mimetype": "text/x-python",
   "name": "python",
   "nbconvert_exporter": "python",
   "pygments_lexer": "ipython3",
   "version": "3.8.3"
  }
 },
 "nbformat": 4,
 "nbformat_minor": 5
}
